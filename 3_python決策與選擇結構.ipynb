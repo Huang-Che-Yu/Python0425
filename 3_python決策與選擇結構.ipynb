{
  "nbformat": 4,
  "nbformat_minor": 0,
  "metadata": {
    "colab": {
      "name": "3_python決策與選擇結構.ipynb",
      "provenance": [],
      "authorship_tag": "ABX9TyMmmtzDJ7IXhoG4DQAUf8He",
      "include_colab_link": true
    },
    "kernelspec": {
      "name": "python3",
      "display_name": "Python 3"
    },
    "language_info": {
      "name": "python"
    }
  },
  "cells": [
    {
      "cell_type": "markdown",
      "metadata": {
        "id": "view-in-github",
        "colab_type": "text"
      },
      "source": [
        "<a href=\"https://colab.research.google.com/github/Huang-Che-Yu/Python0425/blob/main/3_python%E6%B1%BA%E7%AD%96%E8%88%87%E9%81%B8%E6%93%87%E7%B5%90%E6%A7%8B.ipynb\" target=\"_parent\"><img src=\"https://colab.research.google.com/assets/colab-badge.svg\" alt=\"Open In Colab\"/></a>"
      ]
    },
    {
      "cell_type": "markdown",
      "metadata": {
        "id": "ADI5coYwdSlP"
      },
      "source": [
        "# python決策與選擇結構(SELECTION /DECISION)"
      ]
    },
    {
      "cell_type": "markdown",
      "metadata": {
        "id": "uOgArH0OdUEN"
      },
      "source": [
        "程式語言都會有的決策與選擇結構(SELECTION /DECISION)\n",
        "C C++ C# "
      ]
    },
    {
      "cell_type": "markdown",
      "metadata": {
        "id": "r6RUbqBGdVKd"
      },
      "source": [
        "[1]if\n",
        "\n",
        "[2]if ...elsif\n",
        "\n",
        "[3]if ...else\n",
        "\n",
        "[4]if ...elsif ...else\n",
        "\n",
        "[5]各種判斷條件==> 善用 AND   OR\n",
        "\n",
        "[6]範例"
      ]
    },
    {
      "cell_type": "markdown",
      "metadata": {
        "id": "DtG21Jx3dWMG"
      },
      "source": [
        "單向判斷式（if⋯）: 是非題｜對的才要做\n",
        "\n",
        "雙向判斷式（if⋯else）: 二選一｜一定要選的\n",
        "\n",
        "多向判斷式（if⋯elif⋯else）: 多選一｜一定要選的"
      ]
    },
    {
      "cell_type": "markdown",
      "metadata": {
        "id": "VA6rRw0vdbSd"
      },
      "source": [
        "PS: Python沒有switch\n",
        "\n",
        "https://www.w3schools.com/python/python_conditions.asp"
      ]
    },
    {
      "cell_type": "markdown",
      "metadata": {
        "id": "iq1cmU2kddHt"
      },
      "source": [
        "教學重點:教學要教最簡單的範例,要快速教完\n",
        "\n",
        "作業要出很難的 磨出學生的程式力"
      ]
    },
    {
      "cell_type": "markdown",
      "metadata": {
        "id": "CDuFOG5ydf4l"
      },
      "source": [
        "# [1]if ==>底下程式輸出為何?"
      ]
    },
    {
      "cell_type": "code",
      "metadata": {
        "colab": {
          "base_uri": "https://localhost:8080/"
        },
        "id": "NMoA8dLZabKq",
        "outputId": "c3df5992-6959-4969-b94d-2744511eddc8"
      },
      "source": [
        "a = 33\n",
        "b = 200\n",
        "\n",
        "if b > a:\n",
        "  print(\"b is greater than a\")"
      ],
      "execution_count": null,
      "outputs": [
        {
          "output_type": "stream",
          "text": [
            "b is greater than a\n"
          ],
          "name": "stdout"
        }
      ]
    },
    {
      "cell_type": "code",
      "metadata": {
        "id": "zX7b5wNsgJWD"
      },
      "source": [
        "a = 33\n",
        "b = 20\n",
        "\n",
        "if b > a:\n",
        "  print(\"b is greater than a\")"
      ],
      "execution_count": null,
      "outputs": []
    },
    {
      "cell_type": "markdown",
      "metadata": {
        "id": "GflzcV6lgKnM"
      },
      "source": [
        "# [2]if ...elsif ==>底下程式輸出為何?"
      ]
    },
    {
      "cell_type": "markdown",
      "metadata": {
        "id": "uF67i9W8gMtb"
      },
      "source": [
        "範例1"
      ]
    },
    {
      "cell_type": "code",
      "metadata": {
        "colab": {
          "base_uri": "https://localhost:8080/"
        },
        "id": "1TCHcfudgOCt",
        "outputId": "694722ce-9b9e-41f0-e278-fd00492e32fc"
      },
      "source": [
        "a = 32\n",
        "b = 33\n",
        "\n",
        "if b > a:\n",
        "  print(\"b is greater than a\")\n",
        "elif a == b:\n",
        "  print(\"a and b are equal\")"
      ],
      "execution_count": null,
      "outputs": [
        {
          "output_type": "stream",
          "text": [
            "b is greater than a\n"
          ],
          "name": "stdout"
        }
      ]
    },
    {
      "cell_type": "markdown",
      "metadata": {
        "id": "P7-KDczvgPU7"
      },
      "source": [
        "範例2"
      ]
    },
    {
      "cell_type": "code",
      "metadata": {
        "colab": {
          "base_uri": "https://localhost:8080/"
        },
        "id": "J-AfdXHigQsL",
        "outputId": "f9fefb88-c217-4d24-eae6-12e7a9c07b9f"
      },
      "source": [
        "a = 33\n",
        "b = 33\n",
        "if b > a:\n",
        "  print(\"b is greater than a\")\n",
        "elif a == b:\n",
        "  print(\"a and b are equal\")"
      ],
      "execution_count": null,
      "outputs": [
        {
          "output_type": "stream",
          "text": [
            "a and b are equal\n"
          ],
          "name": "stdout"
        }
      ]
    },
    {
      "cell_type": "markdown",
      "metadata": {
        "id": "tPKSA-zrgR_0"
      },
      "source": [
        "範例3"
      ]
    },
    {
      "cell_type": "code",
      "metadata": {
        "id": "W3y7XZCDgTOL"
      },
      "source": [
        "a = 35\n",
        "b = 33\n",
        "\n",
        "if b > a:\n",
        "  print(\"b is greater than a\")\n",
        "elif a == b:\n",
        "  print(\"a and b are equal\")"
      ],
      "execution_count": null,
      "outputs": []
    },
    {
      "cell_type": "markdown",
      "metadata": {
        "id": "si4WUXQ8gVGU"
      },
      "source": [
        "# 雙向判斷式（if⋯else）: 二選一｜一定要選的"
      ]
    },
    {
      "cell_type": "code",
      "metadata": {
        "colab": {
          "base_uri": "https://localhost:8080/"
        },
        "id": "xN1tBD9rgXBM",
        "outputId": "d4647272-fb2b-4fd9-d0b7-0b5e03bfd347"
      },
      "source": [
        "a = 200\n",
        "b = 33\n",
        "\n",
        "if b > a:\n",
        "  print(\"b is greater than a\")\n",
        "else:\n",
        "  print(\"b is not greater than a\")"
      ],
      "execution_count": null,
      "outputs": [
        {
          "output_type": "stream",
          "text": [
            "b is not greater than a\n"
          ],
          "name": "stdout"
        }
      ]
    },
    {
      "cell_type": "markdown",
      "metadata": {
        "id": "UrAG9zuUgYqT"
      },
      "source": [
        "# [4]if ...elsif ...else 多選一｜一定要選的"
      ]
    },
    {
      "cell_type": "code",
      "metadata": {
        "colab": {
          "base_uri": "https://localhost:8080/"
        },
        "id": "G-LYw1WhgbtD",
        "outputId": "e1634097-bb85-4544-9077-b5ae37a894c8"
      },
      "source": [
        "a = 200\n",
        "b = 33\n",
        "\n",
        "if b > a:\n",
        "  print(\"b is greater than a\")\n",
        "elif a == b:\n",
        "  print(\"a and b are equal\")\n",
        "else:\n",
        "  print(\"a is greater than b\")"
      ],
      "execution_count": null,
      "outputs": [
        {
          "output_type": "stream",
          "text": [
            "a is greater than b\n"
          ],
          "name": "stdout"
        }
      ]
    },
    {
      "cell_type": "markdown",
      "metadata": {
        "id": "twxqS_F9gdNL"
      },
      "source": [
        "# [5]各種判斷條件 ==> 善用 AND OR"
      ]
    },
    {
      "cell_type": "markdown",
      "metadata": {
        "id": "OL3OMIN3gejL"
      },
      "source": [
        "判斷是否為閏年"
      ]
    },
    {
      "cell_type": "code",
      "metadata": {
        "colab": {
          "base_uri": "https://localhost:8080/"
        },
        "id": "x1AzZakcggaF",
        "outputId": "9aa467da-14be-432d-ac9a-3218cccae1f7"
      },
      "source": [
        "year = int(input(\"請輸入年\"))\n",
        "\n",
        "if ((year%400==0) or (year%4==0 and year%100!=0)):\n",
        "  print(\"{0} 是閏年\".format(year))\n",
        "else:\n",
        "  print(\"{0} 不是閏年\".format(year))"
      ],
      "execution_count": null,
      "outputs": [
        {
          "output_type": "stream",
          "text": [
            "請輸入年2020\n",
            "2020 是閏年\n"
          ],
          "name": "stdout"
        }
      ]
    },
    {
      "cell_type": "markdown",
      "metadata": {
        "id": "h_Zrfpb-ghxr"
      },
      "source": [
        "# [6]歲月匆匆程式開發 ==>先講 運算思維 再講程式語法"
      ]
    },
    {
      "cell_type": "markdown",
      "metadata": {
        "id": "QeBxftungjpE"
      },
      "source": [
        "問題簡述:\n",
        "\n",
        "輸入:年月日\n",
        "\n",
        "輸出:今年已經過了多少日"
      ]
    },
    {
      "cell_type": "code",
      "metadata": {
        "colab": {
          "base_uri": "https://localhost:8080/"
        },
        "id": "zfn-9BD1g0w8",
        "outputId": "8f127011-ee6e-4bb2-9e5b-3c248955bd18"
      },
      "source": [
        "y,m,d = map(int,input().split())\n",
        "month = [31,28,31,30,31,30,31,31,30,31,30,31]\n",
        "if (y%400 == 0) or (y%100 != 0 and y%4 == 0):\n",
        "  month[1] = 29\n",
        "total = sum(month[:m-1])+d\n",
        "if m == 1:\n",
        "  print(total-31) \n",
        "else:\n",
        "  print(total)"
      ],
      "execution_count": null,
      "outputs": [
        {
          "output_type": "stream",
          "text": [
            "2020 4 25\n",
            "116\n"
          ],
          "name": "stdout"
        }
      ]
    },
    {
      "cell_type": "markdown",
      "metadata": {
        "id": "6BDkC0TxgoaL"
      },
      "source": [
        "# 多向判斷式（if⋯elif⋯else）:收銀台程式開發[學生自己學習]"
      ]
    },
    {
      "cell_type": "markdown",
      "metadata": {
        "id": "-0phV8aQgqpc"
      },
      "source": [
        "百貨公司週年慶活動血拼大打折，\n",
        "\n",
        "吸引很多顧客上門，\n",
        "\n",
        "公司決定再加碼回饋客戶，\n",
        "\n",
        "只要客戶消費\n",
        "\n",
        "金額在 100000 元以上就打八折，\n",
        "\n",
        "金額在 50000 元以上就打八五折，\n",
        "\n",
        "金額在 30000 元以上就打九折，\n",
        "\n",
        "金額在 10000 元以上就打九五折，\n",
        "\n",
        "金額在 10000 元以下就不打折\n",
        "\n",
        "請幫該公司設計這個收銀台的程式，\n",
        "\n",
        "輸入顧客購買金額後，計算顧客應付的金錢。\n",
        "\n",
        "若輸入113234元顧客應付多少錢?"
      ]
    },
    {
      "cell_type": "code",
      "metadata": {
        "colab": {
          "base_uri": "https://localhost:8080/"
        },
        "id": "ma6Dlsjbif8b",
        "outputId": "a8ea7758-a5e9-4d37-84a2-ec34181992f2"
      },
      "source": [
        "n = int(input())\n",
        "if n >= 100000:\n",
        "  n *= 0.8\n",
        "elif n >= 50000:\n",
        "  n *= 0.85\n",
        "elif n >= 30000:\n",
        "  n *= 0.9\n",
        "elif n >= 10000:\n",
        "  n *= 0.95\n",
        "print(n)"
      ],
      "execution_count": null,
      "outputs": [
        {
          "output_type": "stream",
          "text": [
            "113234\n",
            "90587.20000000001\n"
          ],
          "name": "stdout"
        }
      ]
    }
  ]
}