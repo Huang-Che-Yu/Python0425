{
  "nbformat": 4,
  "nbformat_minor": 0,
  "metadata": {
    "colab": {
      "name": "4_廻圈loop.ipynb",
      "provenance": [],
      "authorship_tag": "ABX9TyNy1cLWkf/MPQkMlx3IAjJf",
      "include_colab_link": true
    },
    "kernelspec": {
      "name": "python3",
      "display_name": "Python 3"
    },
    "language_info": {
      "name": "python"
    }
  },
  "cells": [
    {
      "cell_type": "markdown",
      "metadata": {
        "id": "view-in-github",
        "colab_type": "text"
      },
      "source": [
        "<a href=\"https://colab.research.google.com/github/Huang-Che-Yu/Python0425/blob/main/4_%E5%BB%BB%E5%9C%88loop.ipynb\" target=\"_parent\"><img src=\"https://colab.research.google.com/assets/colab-badge.svg\" alt=\"Open In Colab\"/></a>"
      ]
    },
    {
      "cell_type": "markdown",
      "metadata": {
        "id": "uqBiCw1tnhzR"
      },
      "source": [
        "# range() 函式"
      ]
    },
    {
      "cell_type": "markdown",
      "metadata": {
        "id": "pZEGeUnOnnl-"
      },
      "source": [
        "使用range 函式 的建立整數循序數列\n",
        " \n",
        "變數1 = range(整數值)\n",
        "\n",
        "變數2 = range(起始值, 終止值)\n",
        "\n",
        "變數3 = range(起始值, 終止值, 多少間隔)"
      ]
    },
    {
      "cell_type": "markdown",
      "metadata": {
        "id": "IjxgPiptnq7X"
      },
      "source": [
        "# 變數1 = range(整數值)"
      ]
    },
    {
      "cell_type": "code",
      "metadata": {
        "colab": {
          "base_uri": "https://localhost:8080/"
        },
        "id": "WVW-jVhXnbLV",
        "outputId": "ec6d6f9c-fa9f-4b4e-f391-456f7e50cd25"
      },
      "source": [
        "list1=range(10)\n",
        "print(list1)\n",
        "\n",
        "print(list(list1))"
      ],
      "execution_count": 1,
      "outputs": [
        {
          "output_type": "stream",
          "text": [
            "range(0, 10)\n",
            "[0, 1, 2, 3, 4, 5, 6, 7, 8, 9]\n"
          ],
          "name": "stdout"
        }
      ]
    },
    {
      "cell_type": "markdown",
      "metadata": {
        "id": "IC6n5aLen273"
      },
      "source": [
        "# 變數2 = range(起始值, 終止值)"
      ]
    },
    {
      "cell_type": "code",
      "metadata": {
        "colab": {
          "base_uri": "https://localhost:8080/"
        },
        "id": "n4xMLPTtn4Pt",
        "outputId": "11c0910f-07e1-4e68-8aec-24ec96631228"
      },
      "source": [
        "list2=range(-4,5)\n",
        "print(list(list2))"
      ],
      "execution_count": 2,
      "outputs": [
        {
          "output_type": "stream",
          "text": [
            "[-4, -3, -2, -1, 0, 1, 2, 3, 4]\n"
          ],
          "name": "stdout"
        }
      ]
    },
    {
      "cell_type": "markdown",
      "metadata": {
        "id": "nKTpailEn5hu"
      },
      "source": [
        "# 變數3 = range(起始值, 終止值, 多少間隔)"
      ]
    },
    {
      "cell_type": "code",
      "metadata": {
        "colab": {
          "base_uri": "https://localhost:8080/"
        },
        "id": "H2Fa7N_hn69f",
        "outputId": "2d490c0d-3635-4e4d-c26c-837284eba423"
      },
      "source": [
        "list3=range(-4,5,2)\n",
        "print(list(list3))"
      ],
      "execution_count": 3,
      "outputs": [
        {
          "output_type": "stream",
          "text": [
            "[-4, -2, 0, 2, 4]\n"
          ],
          "name": "stdout"
        }
      ]
    },
    {
      "cell_type": "code",
      "metadata": {
        "colab": {
          "base_uri": "https://localhost:8080/"
        },
        "id": "1USRYALNn8Nn",
        "outputId": "ad866648-78cf-46f8-cd26-8bc56aceb973"
      },
      "source": [
        "list4=range(-4,6,2)\n",
        "print(list(list4))"
      ],
      "execution_count": 4,
      "outputs": [
        {
          "output_type": "stream",
          "text": [
            "[-4, -2, 0, 2, 4]\n"
          ],
          "name": "stdout"
        }
      ]
    },
    {
      "cell_type": "markdown",
      "metadata": {
        "id": "ZLQn6wHln_nA"
      },
      "source": [
        "# [2]for 廻圈"
      ]
    },
    {
      "cell_type": "markdown",
      "metadata": {
        "id": "UHOVtffboCUw"
      },
      "source": [
        "使用for 廻圈 執行固定次數的廻圈運算(通常)"
      ]
    },
    {
      "cell_type": "markdown",
      "metadata": {
        "id": "ZE9VmpecoEip"
      },
      "source": [
        "範例 1:"
      ]
    },
    {
      "cell_type": "code",
      "metadata": {
        "colab": {
          "base_uri": "https://localhost:8080/"
        },
        "id": "PwnT43ojoAjY",
        "outputId": "baff0f17-c383-4c03-95cd-75f99731c049"
      },
      "source": [
        "for n in range(5):\n",
        "  print(n)"
      ],
      "execution_count": 5,
      "outputs": [
        {
          "output_type": "stream",
          "text": [
            "0\n",
            "1\n",
            "2\n",
            "3\n",
            "4\n"
          ],
          "name": "stdout"
        }
      ]
    },
    {
      "cell_type": "markdown",
      "metadata": {
        "id": "4OIhndpooGAH"
      },
      "source": [
        "範例 2:"
      ]
    },
    {
      "cell_type": "code",
      "metadata": {
        "colab": {
          "base_uri": "https://localhost:8080/"
        },
        "id": "gx9sk8_8oIDH",
        "outputId": "b565478c-8a60-4461-d476-05d2e49a424e"
      },
      "source": [
        "for n in range(10):\n",
        "    print(n, end='@')\n",
        "\n",
        "    #print(n, end='%%%%')"
      ],
      "execution_count": 6,
      "outputs": [
        {
          "output_type": "stream",
          "text": [
            "0@1@2@3@4@5@6@7@8@9@"
          ],
          "name": "stdout"
        }
      ]
    },
    {
      "cell_type": "markdown",
      "metadata": {
        "id": "FBB1MYvDoJJ6"
      },
      "source": [
        "範例 3:底下兩個程式輸出為何? and why?"
      ]
    },
    {
      "cell_type": "markdown",
      "metadata": {
        "id": "hikVo600oKV3"
      },
      "source": [
        "程式1"
      ]
    },
    {
      "cell_type": "code",
      "metadata": {
        "colab": {
          "base_uri": "https://localhost:8080/"
        },
        "id": "gxm7McNGoMrR",
        "outputId": "04b742ac-c31c-4553-dcba-d84fa83ab866"
      },
      "source": [
        "mysum = 0\n",
        "\n",
        "for n in range(5):\n",
        "  mysum += n\n",
        "  print(mysum)"
      ],
      "execution_count": 7,
      "outputs": [
        {
          "output_type": "stream",
          "text": [
            "0\n",
            "1\n",
            "3\n",
            "6\n",
            "10\n"
          ],
          "name": "stdout"
        }
      ]
    },
    {
      "cell_type": "markdown",
      "metadata": {
        "id": "CtV3YryFoLI3"
      },
      "source": [
        "程式2"
      ]
    },
    {
      "cell_type": "code",
      "metadata": {
        "colab": {
          "base_uri": "https://localhost:8080/"
        },
        "id": "33a1NYIroNHv",
        "outputId": "3aa43d02-4974-4ac8-c793-839bfb806047"
      },
      "source": [
        "mysum = 0\n",
        "\n",
        "for n in range(5):\n",
        "  mysum += n\n",
        "\n",
        "print(mysum)"
      ],
      "execution_count": 8,
      "outputs": [
        {
          "output_type": "stream",
          "text": [
            "10\n"
          ],
          "name": "stdout"
        }
      ]
    },
    {
      "cell_type": "markdown",
      "metadata": {
        "id": "bJbmSjSloO9j"
      },
      "source": [
        "Python 程式碼縮排"
      ]
    },
    {
      "cell_type": "markdown",
      "metadata": {
        "id": "Rkj6I8a8oP2Z"
      },
      "source": [
        "Python 語言以冒號「:」及縮排來表示程式區塊\n",
        "\n",
        "縮排為 1 個 Tab 鍵或 4 個空白鍵"
      ]
    },
    {
      "cell_type": "markdown",
      "metadata": {
        "id": "GZ8H_bTooRQP"
      },
      "source": [
        "範例 4:計算1+2+3+ .....+ n"
      ]
    },
    {
      "cell_type": "code",
      "metadata": {
        "colab": {
          "base_uri": "https://localhost:8080/"
        },
        "id": "ECCUdz11oSkg",
        "outputId": "8931b295-a9a8-4a2d-f412-a82f428076c0"
      },
      "source": [
        "x = int(input(\"請輸入一個正整數:\"))\n",
        "\n",
        "mysum = 0\n",
        "\n",
        "for n in range(x+1): ## 為什麼不是range(x)?\n",
        "  mysum += n\n",
        "\n",
        "print(mysum)"
      ],
      "execution_count": 9,
      "outputs": [
        {
          "output_type": "stream",
          "text": [
            "請輸入一個正整數:8\n",
            "36\n"
          ],
          "name": "stdout"
        }
      ]
    },
    {
      "cell_type": "markdown",
      "metadata": {
        "id": "NNiqu4UMoUT_"
      },
      "source": [
        "作業1:計算n!(==1*2*3* .....*n)\n",
        "\n",
        "作業2:輸入n\n",
        "\n",
        "      若n是偶數 則 輸出2+4+6+..+n 答案\n",
        "      若n是奇數 則 輸出1+3+5+..+n 答案\n",
        "\n",
        "作業3:續上題 增加判斷條件 ==> 輸入驗證(input validation)\n",
        "      若使用者輸入錯誤(如 -3 或是 11.5等) 請他再輸入一次\n",
        "\n",
        "作業4:再續上題 增加 錯誤次數記錄\n",
        "      若 錯誤次數記錄 大於3次  輸出\"你下輩子再來玩吧!\"\n",
        "\n",
        "以上題目再用while  loop再寫一次 ~~~~"
      ]
    },
    {
      "cell_type": "markdown",
      "metadata": {
        "id": "xowgk7a5ocRv"
      },
      "source": [
        "# [程式閱讀題]執行下列程式並說明其結果"
      ]
    },
    {
      "cell_type": "code",
      "metadata": {
        "colab": {
          "base_uri": "https://localhost:8080/"
        },
        "id": "UCdWklkYoeZR",
        "outputId": "e60a3193-ee9a-4ac8-a638-86375f8106f1"
      },
      "source": [
        "#底下程式如果第五行改成  if (number % 2 = 0):答案會是甚麼??\n",
        "\n",
        "numbers = [21, 4, 35, 1, 8, 7, 3, 6, 9]\n",
        "my_numbers = []\n",
        "\n",
        "for number in numbers:\n",
        "  if (number % 2 != 0): \n",
        "    my_numbers.append(number)\n",
        "\n",
        "print(my_numbers)"
      ],
      "execution_count": 10,
      "outputs": [
        {
          "output_type": "stream",
          "text": [
            "[21, 35, 1, 7, 3, 9]\n"
          ],
          "name": "stdout"
        }
      ]
    },
    {
      "cell_type": "markdown",
      "metadata": {
        "id": "FO65B-2TogWi"
      },
      "source": [
        "# [3]While Loop"
      ]
    },
    {
      "cell_type": "markdown",
      "metadata": {
        "id": "klDK0zx2ool_"
      },
      "source": [
        "使用 while loop設計 \n",
        "n階程的計算:n!=1*2*3*⋯*n\n",
        "\n",
        "1!　=　１\n",
        "\n",
        "2!　=　1*2　=　2\n",
        "\n",
        "3!　=　1*2*3　=　6"
      ]
    },
    {
      "cell_type": "markdown",
      "metadata": {
        "id": "FfbJ3kfBokB3"
      },
      "source": [
        "輸入::一個正整數 n\n",
        "輸出::n!\n",
        "\n",
        "當使用者輸入一個正整數 n 後，程式就會顯示\n",
        "1*2*3*...*n 的乘積"
      ]
    },
    {
      "cell_type": "markdown",
      "metadata": {
        "id": "16xUNHY6osEH"
      },
      "source": [
        "程式範例"
      ]
    },
    {
      "cell_type": "code",
      "metadata": {
        "colab": {
          "base_uri": "https://localhost:8080/"
        },
        "id": "ZufnL0lcos5_",
        "outputId": "f706bfc4-7ee9-4eb1-ca5a-d4ba3bf9ec68"
      },
      "source": [
        "total = i = 1\n",
        "\n",
        "n = int(input(\"請輸入正整數 n 的值：\")) # 再問一次:為什麼要加\n",
        "\n",
        "while(i<=n):\n",
        "    total *= i  \n",
        "    i+=1      \n",
        "\n",
        "print(\"%d!=%d\" % (n, total))"
      ],
      "execution_count": 11,
      "outputs": [
        {
          "output_type": "stream",
          "text": [
            "請輸入正整數 n 的值：8\n",
            "8!=40320\n"
          ],
          "name": "stdout"
        }
      ]
    },
    {
      "cell_type": "markdown",
      "metadata": {
        "id": "bu3qNRJvouov"
      },
      "source": [
        "# [4]break 指令"
      ]
    },
    {
      "cell_type": "markdown",
      "metadata": {
        "id": "jMLPY3z8ow1w"
      },
      "source": [
        "可在廻圈執行中途強迫跳離廻圈，跳到廻圈後面的程式繼續執行。"
      ]
    },
    {
      "cell_type": "code",
      "metadata": {
        "colab": {
          "base_uri": "https://localhost:8080/"
        },
        "id": "0U6wKAWloyD3",
        "outputId": "0a3f9e2c-dbe2-4dae-f6f2-cdfa0bc8ffc5"
      },
      "source": [
        "fruits = [\"香蕉\",\"蘋果\",\"橘子\",\"鳳梨\",\"西瓜\"]\n",
        "\n",
        "while True:\n",
        "    fruit = input(\"請輸入喜歡的水果(Enter 結束)：\")\n",
        "\n",
        "  # 要執行程式請記得把底下兩行 # 去除 \n",
        "    if (fruit==\"\"):\n",
        "        break\n",
        "\n",
        "    n = fruits.count(fruit) \n",
        "    if (n>0):  # 串列元素存在\n",
        "        p=fruits.index(fruit)\n",
        "        print(\"%s 在串列中的第 %d 項\" %(fruit,p+1))\n",
        "    else:\n",
        "        print(fruit,\"不在串列中!\")"
      ],
      "execution_count": 12,
      "outputs": [
        {
          "output_type": "stream",
          "text": [
            "請輸入喜歡的水果(Enter 結束)：232\n",
            "232 不在串列中!\n",
            "請輸入喜歡的水果(Enter 結束)：\n"
          ],
          "name": "stdout"
        }
      ]
    },
    {
      "cell_type": "markdown",
      "metadata": {
        "id": "7PR3bMqio0gv"
      },
      "source": [
        "# [5]continue 指令"
      ]
    },
    {
      "cell_type": "markdown",
      "metadata": {
        "id": "5BC43YRPo2aN"
      },
      "source": [
        "在廻圈執行中途暫時停住不往下執行，而跳到廻圈的起始處繼續執行"
      ]
    },
    {
      "cell_type": "markdown",
      "metadata": {
        "id": "pJpkJdSDo3pL"
      },
      "source": [
        "撰寫一個可以排除數列中 5 的倍數的程式\n",
        "\n",
        "輸入::一個正整數 n\n",
        "\n",
        "輸出::\n",
        "\n",
        "使用者只要輸入一個正整數，\n",
        "程式會顯示由 1 到該整數的整數數列，但會將 5 的倍數排除"
      ]
    },
    {
      "cell_type": "code",
      "metadata": {
        "colab": {
          "base_uri": "https://localhost:8080/"
        },
        "id": "y4mgCU94o68a",
        "outputId": "0274f347-2e35-43a9-f1b5-5837e46bcb91"
      },
      "source": [
        "n = int(input(\"請輸入正整數：\"))\n",
        "\n",
        "for i in range(1, n+1):\n",
        "    if i % 5 ==0:\n",
        "        continue\n",
        "    print(i,end=\" \")"
      ],
      "execution_count": 13,
      "outputs": [
        {
          "output_type": "stream",
          "text": [
            "請輸入正整數：8\n",
            "1 2 3 4 6 7 8 "
          ],
          "name": "stdout"
        }
      ]
    },
    {
      "cell_type": "markdown",
      "metadata": {
        "id": "MBDYo0AMo8Yq"
      },
      "source": [
        "# [6]巢狀廻圈Nested Loop[自主學習主題]"
      ]
    },
    {
      "cell_type": "markdown",
      "metadata": {
        "id": "6-lQhsUmo9sf"
      },
      "source": [
        "廻圈中又包含廻圈 ==> 巢狀廻圈(Nested Loop)"
      ]
    },
    {
      "cell_type": "code",
      "metadata": {
        "colab": {
          "base_uri": "https://localhost:8080/"
        },
        "id": "N9ycZFoBo-w_",
        "outputId": "69a070b0-2c7b-4e28-8005-e802dfe1907e"
      },
      "source": [
        "#!/usr/bin/python\n",
        "# -*- coding: UTF-8 -*-\n",
        " \n",
        "for i in range(1,6):\n",
        "    for j in range(1,5):\n",
        "        for k in range(1,7):\n",
        "            if( i != k ) and (i != j) and (j != k):\n",
        "                print(i,j,k)"
      ],
      "execution_count": 14,
      "outputs": [
        {
          "output_type": "stream",
          "text": [
            "1 2 3\n",
            "1 2 4\n",
            "1 2 5\n",
            "1 2 6\n",
            "1 3 2\n",
            "1 3 4\n",
            "1 3 5\n",
            "1 3 6\n",
            "1 4 2\n",
            "1 4 3\n",
            "1 4 5\n",
            "1 4 6\n",
            "2 1 3\n",
            "2 1 4\n",
            "2 1 5\n",
            "2 1 6\n",
            "2 3 1\n",
            "2 3 4\n",
            "2 3 5\n",
            "2 3 6\n",
            "2 4 1\n",
            "2 4 3\n",
            "2 4 5\n",
            "2 4 6\n",
            "3 1 2\n",
            "3 1 4\n",
            "3 1 5\n",
            "3 1 6\n",
            "3 2 1\n",
            "3 2 4\n",
            "3 2 5\n",
            "3 2 6\n",
            "3 4 1\n",
            "3 4 2\n",
            "3 4 5\n",
            "3 4 6\n",
            "4 1 2\n",
            "4 1 3\n",
            "4 1 5\n",
            "4 1 6\n",
            "4 2 1\n",
            "4 2 3\n",
            "4 2 5\n",
            "4 2 6\n",
            "4 3 1\n",
            "4 3 2\n",
            "4 3 5\n",
            "4 3 6\n",
            "5 1 2\n",
            "5 1 3\n",
            "5 1 4\n",
            "5 1 6\n",
            "5 2 1\n",
            "5 2 3\n",
            "5 2 4\n",
            "5 2 6\n",
            "5 3 1\n",
            "5 3 2\n",
            "5 3 4\n",
            "5 3 6\n",
            "5 4 1\n",
            "5 4 2\n",
            "5 4 3\n",
            "5 4 6\n"
          ],
          "name": "stdout"
        }
      ]
    },
    {
      "cell_type": "markdown",
      "metadata": {
        "id": "dpYhG6u7pAJm"
      },
      "source": [
        "作業1:計算上題的總和"
      ]
    },
    {
      "cell_type": "markdown",
      "metadata": {
        "id": "FHcyVmuOpBYf"
      },
      "source": [
        "程式設計題:九九乘法表"
      ]
    },
    {
      "cell_type": "markdown",
      "metadata": {
        "id": "SegxGGETpDYi"
      },
      "source": [
        "# 小小測驗:不必教 [自主學習主題]"
      ]
    },
    {
      "cell_type": "markdown",
      "metadata": {
        "id": "4mJfIqWHpEXP"
      },
      "source": [
        "底下程式執行結果為何?"
      ]
    },
    {
      "cell_type": "code",
      "metadata": {
        "colab": {
          "base_uri": "https://localhost:8080/"
        },
        "id": "HOz7pA4ZpFUI",
        "outputId": "5cad8722-58e8-4d78-dbe1-9cf415accf1e"
      },
      "source": [
        "for x in range(19):\n",
        "  print(x)"
      ],
      "execution_count": 15,
      "outputs": [
        {
          "output_type": "stream",
          "text": [
            "0\n",
            "1\n",
            "2\n",
            "3\n",
            "4\n",
            "5\n",
            "6\n",
            "7\n",
            "8\n",
            "9\n",
            "10\n",
            "11\n",
            "12\n",
            "13\n",
            "14\n",
            "15\n",
            "16\n",
            "17\n",
            "18\n"
          ],
          "name": "stdout"
        }
      ]
    },
    {
      "cell_type": "code",
      "metadata": {
        "colab": {
          "base_uri": "https://localhost:8080/"
        },
        "id": "V_39xpespGBe",
        "outputId": "e0630a2b-c1a4-4766-e658-8b6116f310c6"
      },
      "source": [
        "for x in range(0,19,2):\n",
        "  print(x)"
      ],
      "execution_count": 16,
      "outputs": [
        {
          "output_type": "stream",
          "text": [
            "0\n",
            "2\n",
            "4\n",
            "6\n",
            "8\n",
            "10\n",
            "12\n",
            "14\n",
            "16\n",
            "18\n"
          ],
          "name": "stdout"
        }
      ]
    },
    {
      "cell_type": "code",
      "metadata": {
        "colab": {
          "base_uri": "https://localhost:8080/"
        },
        "id": "w2iEXDD2pGu5",
        "outputId": "37843570-dc7e-4dfd-bc59-12d92ca21ba2"
      },
      "source": [
        "for x in range(20,11,-1):\n",
        "  print(x)"
      ],
      "execution_count": 17,
      "outputs": [
        {
          "output_type": "stream",
          "text": [
            "20\n",
            "19\n",
            "18\n",
            "17\n",
            "16\n",
            "15\n",
            "14\n",
            "13\n",
            "12\n"
          ],
          "name": "stdout"
        }
      ]
    },
    {
      "cell_type": "code",
      "metadata": {
        "id": "n5V1onnypHdO"
      },
      "source": [
        "for x in range(0,19,-1):\n",
        "  print(x)"
      ],
      "execution_count": 18,
      "outputs": []
    },
    {
      "cell_type": "code",
      "metadata": {
        "colab": {
          "base_uri": "https://localhost:8080/"
        },
        "id": "p41qD7DZpIHW",
        "outputId": "4bf290ac-3134-4cb2-c793-ee1f65059793"
      },
      "source": [
        "output = ''\n",
        "\n",
        "for x in range(0,19,3):\n",
        "  output += str(x)\n",
        "  print(output, end=\" \")"
      ],
      "execution_count": 23,
      "outputs": [
        {
          "output_type": "stream",
          "text": [
            "0 03 036 0369 036912 03691215 0369121518 "
          ],
          "name": "stdout"
        }
      ]
    },
    {
      "cell_type": "code",
      "metadata": {
        "colab": {
          "base_uri": "https://localhost:8080/"
        },
        "id": "FSdgj3WOpJK_",
        "outputId": "1b0a383f-91c0-4fee-ad46-c4fb8ee35e8a"
      },
      "source": [
        "output = ''\n",
        "\n",
        "for x in range(0,19,3):\n",
        "  print(x, end=\" \")"
      ],
      "execution_count": 22,
      "outputs": [
        {
          "output_type": "stream",
          "text": [
            "0 3 6 9 12 15 18 "
          ],
          "name": "stdout"
        }
      ]
    },
    {
      "cell_type": "code",
      "metadata": {
        "colab": {
          "base_uri": "https://localhost:8080/"
        },
        "id": "yxPZGMWtpJ8S",
        "outputId": "780a692f-7493-4be0-986e-8e9495445184"
      },
      "source": [
        "list1 = range(0,19,3)\n",
        "\n",
        "for x in list1:\n",
        "  print(x, end=\" \")"
      ],
      "execution_count": 21,
      "outputs": [
        {
          "output_type": "stream",
          "text": [
            "0 3 6 9 12 15 18 "
          ],
          "name": "stdout"
        }
      ]
    },
    {
      "cell_type": "markdown",
      "metadata": {
        "id": "RQkl3L35pK5W"
      },
      "source": [
        "[程式閱讀題] 下列程式輸入淨利潤為11111時請問輸出為何?"
      ]
    },
    {
      "cell_type": "code",
      "metadata": {
        "colab": {
          "base_uri": "https://localhost:8080/"
        },
        "id": "mM69FvSKpL5D",
        "outputId": "108d4204-6f3a-4beb-9a3b-18656fda55c2"
      },
      "source": [
        "#!/usr/bin/python\n",
        "# -*- coding: UTF-8 -*-\n",
        " \n",
        "i = int(input('淨利潤:'))\n",
        "\n",
        "arr = [1000000,600000,400000,200000,100000,0]\n",
        "rat = [0.01,0.015,0.03,0.05,0.075,0.1]\n",
        "r = 0\n",
        "\n",
        "for idx in range(0,6):\n",
        "    if i>arr[idx]:\n",
        "        r+=(i-arr[idx])*rat[idx]\n",
        "        print((i-arr[idx])*rat[idx])\n",
        "        i=arr[idx]\n",
        "\n",
        "print(r)"
      ],
      "execution_count": 24,
      "outputs": [
        {
          "output_type": "stream",
          "text": [
            "淨利潤:11111\n",
            "1111.1000000000001\n",
            "1111.1000000000001\n"
          ],
          "name": "stdout"
        }
      ]
    }
  ]
}