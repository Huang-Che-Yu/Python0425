{
  "nbformat": 4,
  "nbformat_minor": 0,
  "metadata": {
    "colab": {
      "name": "2_資料型態(data Type)及其運算.ipynb",
      "provenance": [],
      "authorship_tag": "ABX9TyMdZaR0ti1SToBM+J1qcBwf",
      "include_colab_link": true
    },
    "kernelspec": {
      "name": "python3",
      "display_name": "Python 3"
    },
    "language_info": {
      "name": "python"
    }
  },
  "cells": [
    {
      "cell_type": "markdown",
      "metadata": {
        "id": "view-in-github",
        "colab_type": "text"
      },
      "source": [
        "<a href=\"https://colab.research.google.com/github/Huang-Che-Yu/Python0425/blob/main/2_%E8%B3%87%E6%96%99%E5%9E%8B%E6%85%8B(data_Type)%E5%8F%8A%E5%85%B6%E9%81%8B%E7%AE%97.ipynb\" target=\"_parent\"><img src=\"https://colab.research.google.com/assets/colab-badge.svg\" alt=\"Open In Colab\"/></a>"
      ]
    },
    {
      "cell_type": "markdown",
      "metadata": {
        "id": "nV_eKvTyGUkL"
      },
      "source": [
        "## 資料型態(data Type)及其運算"
      ]
    },
    {
      "cell_type": "markdown",
      "metadata": {
        "id": "Rf4kQfgFGXG5"
      },
      "source": [
        "Python有眾多資料型態(data Type)及其各種運算\n",
        "\n",
        "    * 數值(Numeric)資料及其運算\n",
        "    * 字串(string)及其運算\n",
        "    * 列表(list)資料及其運算\n",
        "    * 字典(dict)資料及其運算  \n",
        "    * [自我練習]tuple資料及其運算  \n",
        "    * [自我練習]set資料及其運算\n",
        "    \n",
        " 本課程規劃讓同學快速掌握python程式的開發技術\n",
        " 還有更多技術及細節 請務必閱讀更多教材深入學習\n",
        " \n",
        " 資料型態(Data Type)學習重點:\n",
        "   各種運算\n",
        "   各種內建函數"
      ]
    },
    {
      "cell_type": "markdown",
      "metadata": {
        "id": "-g05qRGXGpXC"
      },
      "source": [
        "# 1_數值(Numeric)資料及其運算"
      ]
    },
    {
      "cell_type": "markdown",
      "metadata": {
        "id": "aAEap4p2GtPy"
      },
      "source": [
        "[1]Python支援的數值型資料型別(Numerics Data Type)\n",
        "[2]基本的運算  <==請參閱書籍\n",
        "\n",
        "算術運算子Arithmetic operators\n",
        "\n",
        "比較（關係）運算子Comparison operators\n",
        "\n",
        "賦值運算子Assignment operators\n",
        "\n",
        "邏輯運算符Logical operators\n",
        "\n",
        "位元運算子Bitwise operators\n",
        "\n",
        "成員運算子Identity operators\n",
        "\n",
        "身份運算子Membership operators\n",
        "\n",
        "運算子優先順序\n",
        "\n",
        "[3]內建的各種數學函數(Built-in functions)"
      ]
    },
    {
      "cell_type": "markdown",
      "metadata": {
        "id": "DkidRGDSG1_i"
      },
      "source": [
        "Python 支持三種不同的數值型別(Data Type)：\n",
        "\n",
        "[1]Int 整數，是可以是正或負整數，不帶小數點。\n",
        "\n",
        "   Python3  int是沒有限制大小的，可以當作 Long 類型使用，所以 Python3 沒有 Python2 的 Long 類型。\n",
        "\n",
        "[2]浮點數(float) :由整數部分與小數部分組成，浮點型也可以使用科學計數法表示（2.5e2 = 2.5 x 10 0 = 250）\n",
        "\n",
        "[3]複數( (complex)) - 複數由實數部分和虛數部分構成，可以用a + bj,或者complex(a,b)表示， 複數的實部a和虛部b都是浮點型。"
      ]
    },
    {
      "cell_type": "markdown",
      "metadata": {
        "id": "DQzn8BejG7-q"
      },
      "source": [
        "# [2]基本的運算"
      ]
    },
    {
      "cell_type": "markdown",
      "metadata": {
        "id": "qg3pgGaBG-tJ"
      },
      "source": [
        "請參閱底下網址完成數值(Numeric)資料的各種運算\n",
        "https://www.w3schools.com/python/python_operators.asp"
      ]
    },
    {
      "cell_type": "markdown",
      "metadata": {
        "id": "KD-UBMg2MWcA"
      },
      "source": [
        "[實作練習]底下程式執行後結果為何?"
      ]
    },
    {
      "cell_type": "code",
      "metadata": {
        "id": "Ait_YPcKGRiY"
      },
      "source": [
        "a = 17 / 3\n",
        "b = 17 // 3\n",
        "c = 17 % 3\n",
        "\n",
        "a,b,c"
      ],
      "execution_count": null,
      "outputs": []
    },
    {
      "cell_type": "markdown",
      "metadata": {
        "id": "O-7sy1gYMa5W"
      },
      "source": [
        "邏輯運算 Logical Operators"
      ]
    },
    {
      "cell_type": "markdown",
      "metadata": {
        "id": "Lr3w8KdpMb7R"
      },
      "source": [
        "範例:底下輸出為何? and why?"
      ]
    },
    {
      "cell_type": "code",
      "metadata": {
        "id": "zPTnySxYMdFF"
      },
      "source": [
        "x = 5\n",
        "print(x > 3 and x < 10)"
      ],
      "execution_count": null,
      "outputs": []
    },
    {
      "cell_type": "markdown",
      "metadata": {
        "id": "EaNwM-hbMexW"
      },
      "source": [
        "範例:底下輸出為何? and why?"
      ]
    },
    {
      "cell_type": "code",
      "metadata": {
        "id": "396mjGfdMgbe"
      },
      "source": [
        "x = 5\n",
        "print(x > 3 or x < 4)"
      ],
      "execution_count": null,
      "outputs": []
    },
    {
      "cell_type": "markdown",
      "metadata": {
        "id": "Fhx4DlW4MhiW"
      },
      "source": [
        "範例:底下輸出為何? and why?"
      ]
    },
    {
      "cell_type": "code",
      "metadata": {
        "id": "q53qUrIuMi1n"
      },
      "source": [
        "x = 5\n",
        "print(not(x > 3 and x < 10))"
      ],
      "execution_count": null,
      "outputs": []
    },
    {
      "cell_type": "markdown",
      "metadata": {
        "id": "H0X_WGVLMkJ2"
      },
      "source": [
        "作業:Bitwise Operators[不要教,會花很多時間]"
      ]
    },
    {
      "cell_type": "code",
      "metadata": {
        "id": "HXOXVVxMMl5m"
      },
      "source": [
        "#!/usr/bin/python3\n",
        " \n",
        "a = 60            # 60 = 0011 1100 \n",
        "b = 13            # 13 = 0000 1101 \n",
        "c = 0\n",
        "\n",
        "print (\"0 - a =  60 = 0011 1100(二進位) \")\n",
        "print (\"0 - b =  13 = 0000 1101(二進位) \")\n",
        "c = a & b;        # 12 = 0000 1100\n",
        "print (\"1 - c = a & b的值為：\", c)\n",
        " \n",
        "c = a | b;        # 61 = 0011 1101 \n",
        "print (\"2 - c = a | b的值為：\", c)\n",
        " \n",
        "c = a ^ b;        # 49 = 0011 0001\n",
        "print (\"3 - c= a ^ b 的值為：\", c)\n",
        " \n",
        "c = ~a;           # -61 = 1100 0011\n",
        "print (\"4 - c = ~a的值為：\", c)\n",
        " \n",
        "c = a << 2;       # 240 = 1111 0000\n",
        "print (\"5 - c = a << 2的值為：\", c)\n",
        " \n",
        "c = a >> 2;       # 15 = 0000 1111\n",
        "print (\"6 - c = a >> 2的值為：\", c)"
      ],
      "execution_count": null,
      "outputs": []
    },
    {
      "cell_type": "markdown",
      "metadata": {
        "id": "LVAVQ8ykMmgX"
      },
      "source": [
        "[3]內建函式: round()函數的測試"
      ]
    },
    {
      "cell_type": "code",
      "metadata": {
        "id": "Uo5owccVMooW"
      },
      "source": [
        "#Round a number to only two decimals:\n",
        "x = round(5.76543, 2)\n",
        "print(x)\n",
        "\n",
        "\n",
        "# Round to the nearest integer:\n",
        "y = round(5.76543)\n",
        "print(y)"
      ],
      "execution_count": null,
      "outputs": []
    },
    {
      "cell_type": "markdown",
      "metadata": {
        "id": "3QePMRoOMqb-"
      },
      "source": [
        "作業:參考底網址完成十種函數的自我測試報告\n",
        "https://www.w3schools.com/python/python_ref_functions.asp"
      ]
    },
    {
      "cell_type": "markdown",
      "metadata": {
        "id": "R1lMO9hTMr1H"
      },
      "source": [
        "# [4]Python 型態轉換"
      ]
    },
    {
      "cell_type": "markdown",
      "metadata": {
        "id": "r5DddUE3MwM6"
      },
      "source": [
        "資料類型的轉換只需要將資料類型作為函數名即可。\n",
        "\n",
        "int(x) 將x轉換為一個整數。\n",
        "\n",
        "float(x) 將x轉換到一個浮點數。\n",
        "\n",
        "complex(x) 將x轉換到一個複數，實數部分為 x，虛數部分為 0。\n",
        "\n",
        "complex(x, y) 將 x 和 y 轉換到一個複數，實數部分為 x，虛數部分為 y。x 和 y 是數字運算式。"
      ]
    },
    {
      "cell_type": "markdown",
      "metadata": {
        "id": "p_s5IRuyM0Tm"
      },
      "source": [
        "範例:"
      ]
    },
    {
      "cell_type": "code",
      "metadata": {
        "id": "LbTimfryM3OF"
      },
      "source": [
        "a = 1.0004\n",
        "int(a)\n",
        "\n",
        "b = 0.9999\n",
        "int(a)"
      ],
      "execution_count": null,
      "outputs": []
    },
    {
      "cell_type": "markdown",
      "metadata": {
        "id": "BHhGQ1GEM1xy"
      },
      "source": [
        "作業:picoCTF 2017 : compute-rsa-50"
      ]
    },
    {
      "cell_type": "markdown",
      "metadata": {
        "id": "YGoAFlsfM6m_"
      },
      "source": [
        "RSA encryption/decryption is based on a formula that anyone can find and use, \n",
        "as long as they know the values to plug in. \n",
        "\n",
        "Given the encrypted number 150815, d = 1941, and N = 435979, \n",
        "what is the decrypted number?\n",
        "\n",
        "HINTS\n",
        "decrypted = (encrypted) ^ d mod N"
      ]
    },
    {
      "cell_type": "code",
      "metadata": {
        "colab": {
          "base_uri": "https://localhost:8080/"
        },
        "id": "iqRgkfHgMumW",
        "outputId": "5060dabb-6602-4b1c-fc73-bea8c09350ea"
      },
      "source": [
        "encrypted = 150815\n",
        "d = 1941\n",
        "N = 435979\n",
        "print((encrypted ** d) % N)"
      ],
      "execution_count": 1,
      "outputs": [
        {
          "output_type": "stream",
          "text": [
            "133337\n"
          ],
          "name": "stdout"
        }
      ]
    },
    {
      "cell_type": "markdown",
      "metadata": {
        "id": "qccEue9aNMeO"
      },
      "source": [
        "# 2_字串(string)及其運算"
      ]
    },
    {
      "cell_type": "markdown",
      "metadata": {
        "id": "oo99kvecNOTO"
      },
      "source": [
        "字串(string)"
      ]
    },
    {
      "cell_type": "markdown",
      "metadata": {
        "id": "grzmr6a4NP1W"
      },
      "source": [
        "[1]string字串 資料型態(data type) \n",
        "\n",
        "[2]string字串的運算\n",
        "\n",
        "[3]Python内建的字串函数(Built-in String Methods)"
      ]
    },
    {
      "cell_type": "markdown",
      "metadata": {
        "id": "MD8XCV3BNSm-"
      },
      "source": [
        "[2_1]string字串 資料型態(data type)"
      ]
    },
    {
      "cell_type": "code",
      "metadata": {
        "id": "2OU7szTANUMV"
      },
      "source": [
        "變數值以一對雙引號 (「\"」)或單引號 (「'」)\n",
        "\n",
        "str1 = '這是字串'\n",
        "str2 = \"這也是字串\"\n",
        "str3 = 'allows embedded \"double\" quotes'"
      ],
      "execution_count": null,
      "outputs": []
    },
    {
      "cell_type": "markdown",
      "metadata": {
        "id": "9OKie6arNW-O"
      },
      "source": [
        "[2_2]string字串的運算"
      ]
    },
    {
      "cell_type": "markdown",
      "metadata": {
        "id": "PYMyw1SYNYiK"
      },
      "source": [
        "存取字串中的值: 使用方括號"
      ]
    },
    {
      "cell_type": "markdown",
      "metadata": {
        "id": "FGwjmnhINaxO"
      },
      "source": [
        "[實作練習]底下程式執行後結果為何?"
      ]
    },
    {
      "cell_type": "code",
      "metadata": {
        "id": "Cn2KzRgMNb6V"
      },
      "source": [
        "var1 = 'Hello Python!'\n",
        "\n",
        "print(\"var1[0]: \", var1[0])\n",
        "print(\"var1[1:8]: \", var1[1:8]) # Slicing 切片運算"
      ],
      "execution_count": null,
      "outputs": []
    },
    {
      "cell_type": "markdown",
      "metadata": {
        "id": "Z4hrUlaYNdv1"
      },
      "source": [
        "Slicing 切片運算範例:底下執行結果為何?"
      ]
    },
    {
      "cell_type": "code",
      "metadata": {
        "id": "dCoDnStMNfSd"
      },
      "source": [
        "b = \"Hello, World!\"\n",
        "print(b[2:5])\n",
        "print(b[:5])\n",
        "print(b[2:])\n",
        "print(b[-5:-2]) # Negative Indexing\n",
        "# 參考資料 https://www.w3schools.com/python/python_strings_slicing.asp"
      ],
      "execution_count": null,
      "outputs": []
    },
    {
      "cell_type": "markdown",
      "metadata": {
        "id": "MrmxjyhfNgse"
      },
      "source": [
        "[2_3]Python内建的字串函数(Built-in String Methods)"
      ]
    },
    {
      "cell_type": "markdown",
      "metadata": {
        "id": "mvCmcmiQNiLV"
      },
      "source": [
        "作業:參考底網址完成十種函數的自我測試報告\n",
        "Python - String Methods\n",
        "https://www.w3schools.com/python/python_strings_methods.asp"
      ]
    },
    {
      "cell_type": "markdown",
      "metadata": {
        "id": "5D3I6QQ4Njdx"
      },
      "source": [
        "[實作練習]底下程式執行後結果為何?"
      ]
    },
    {
      "cell_type": "code",
      "metadata": {
        "id": "dqgEG0O1Nk01"
      },
      "source": [
        "str1='happy python day'\n",
        "str2='    Oh!   '\n",
        "\n",
        "str4=str1 + str2   # 字串串接String Concatenation運算\n",
        "\n",
        "print(str4.capitalize())\n",
        "\n",
        "mystr = 'python'\n",
        "str4.find(pyth, beg=0, end=len(str4))"
      ],
      "execution_count": null,
      "outputs": []
    },
    {
      "cell_type": "markdown",
      "metadata": {
        "id": "0z4NYc-KNmnm"
      },
      "source": [
        "# 3_列表(list)資料及其運算"
      ]
    },
    {
      "cell_type": "markdown",
      "metadata": {
        "id": "EQdr3ELPNoXG"
      },
      "source": [
        "LIST是 Python 中最基本的資料結構。\n",
        "\n",
        "LIST使用一個方括號內的逗號分隔值出現。\n",
        "\n",
        "LIST的每個值都有對應的位置，稱之為索引( index)，\n",
        "\n",
        "第一個索引是 0，第二個索引是 1，依此類推。\n",
        "\n",
        "LIST都可以進行的操作包括索引，切片，加，乘，檢查成員。\n",
        "\n",
        "Python 內建許多函數: \n",
        "\n",
        "1.len(list):元素個數\n",
        "\n",
        "2.max(list)返回元素最大值\n",
        "\n",
        "3.min(list):返回元素最小值"
      ]
    },
    {
      "cell_type": "markdown",
      "metadata": {
        "id": "Wvd8U_r-Nsvt"
      },
      "source": [
        "範例 1:底下程式執行後結果為何?"
      ]
    },
    {
      "cell_type": "code",
      "metadata": {
        "id": "136LwXDFNuB9"
      },
      "source": [
        "list1 = [21, 33, 14, 12, 32, 98]\n",
        "\n",
        "list1[1]\n",
        "list1[-2]\n",
        "list1[1:3]  # 切片運算"
      ],
      "execution_count": null,
      "outputs": []
    },
    {
      "cell_type": "markdown",
      "metadata": {
        "id": "Nr2wu5NpNvLF"
      },
      "source": [
        "範例 2:[內建函數]底下程式執行後結果為何?"
      ]
    },
    {
      "cell_type": "code",
      "metadata": {
        "id": "_-RVsPwQNwkn"
      },
      "source": [
        "list1 = [21, 33, 14, 12, 32, 98]\n",
        "\n",
        "len(list1)\n",
        "max(list1)\n",
        "min(list1)\n",
        "sum(list1)"
      ],
      "execution_count": null,
      "outputs": []
    },
    {
      "cell_type": "markdown",
      "metadata": {
        "id": "oYBkNCf3NyDd"
      },
      "source": [
        "4_字典(dict)資料及其運算"
      ]
    },
    {
      "cell_type": "markdown",
      "metadata": {
        "id": "20Rg2vzGNzQ-"
      },
      "source": [
        "字典的每筆資料都使用key(鍵)=>value(值) pair(對)\n",
        "\n",
        "每筆資料都使用冒號 : 分割\n",
        "\n",
        "每對之間用逗號(,)分割，\n",
        "\n",
        "整個字典包括在花括弧 {} \n",
        "\n",
        "key(鍵)必須是唯一的，但value(值)則不必。\n",
        "\n",
        "Python 內建許多函數: \n",
        "\n",
        "    len(dict):計算字典元素個數，即鍵的總數。\n",
        "\n",
        "\n",
        "Python 內建許多方法(Method):\n",
        "\n",
        "字典.items():以列表返回LIST陣列\n",
        "\n",
        "字典.keys():返回所有keys\n",
        "\n",
        "字典.values():返回所有values"
      ]
    },
    {
      "cell_type": "markdown",
      "metadata": {
        "id": "mtw1al-NN4Cv"
      },
      "source": [
        "定義方式:"
      ]
    },
    {
      "cell_type": "code",
      "metadata": {
        "id": "wc5sB22FN5M2"
      },
      "source": [
        "a = dict(one=1, two=2, three=3)\n",
        "b = {'one': 1, 'two': 2, 'three': 3}\n",
        "c = dict(zip(['one', 'two', 'three'], [1, 2, 3]))\n",
        "d = dict([('two', 2), ('one', 1), ('three', 3)])\n",
        "e = dict({'three': 3, 'one': 1, 'two': 2})\n",
        "f = dict({'one': 1, 'three': 3}, two=2)\n",
        "a == b == c == d == e == f"
      ],
      "execution_count": null,
      "outputs": []
    },
    {
      "cell_type": "markdown",
      "metadata": {
        "id": "xt48Ms3WN6w2"
      },
      "source": [
        "範例 1:底下程式執行後結果為何?"
      ]
    },
    {
      "cell_type": "code",
      "metadata": {
        "id": "I9R3kH4mN8F_"
      },
      "source": [
        "dict = {'Name': 'DaDaLong', 'Age': 17, 'Class': 'First'}\n",
        "\n",
        "print(\"dict['Name']: \", dict['Name'])\n",
        "print(\"dict['Age']: \", dict['Age'])"
      ],
      "execution_count": null,
      "outputs": []
    },
    {
      "cell_type": "markdown",
      "metadata": {
        "id": "5t6U_VhdN91f"
      },
      "source": [
        "範例 2:底下程式執行後結果為何?"
      ]
    },
    {
      "cell_type": "code",
      "metadata": {
        "id": "3xTCFoQ4N-0G"
      },
      "source": [
        "dict = {'Name': 'DaDaLong', 'Age': 17, 'Class': 'First'}\n",
        "dict.items()"
      ],
      "execution_count": null,
      "outputs": []
    },
    {
      "cell_type": "markdown",
      "metadata": {
        "id": "obE8rgMbOAiW"
      },
      "source": [
        "範例 3:[程式比較]和上述程式輸出有何不同?"
      ]
    },
    {
      "cell_type": "code",
      "metadata": {
        "id": "4mWykyO_OBzn"
      },
      "source": [
        "dict = {'Name': 'DaDaLong', 'Age': 17, 'Class': 'First'}\n",
        "list(dict.items())\n",
        "dict = {'Name': 'DaDaLong', 'Age': 17, 'Class': 'First'}\n",
        "list(dict.keys())"
      ],
      "execution_count": null,
      "outputs": []
    },
    {
      "cell_type": "markdown",
      "metadata": {
        "id": "0gBU5kSMOC92"
      },
      "source": [
        "應用範例程式"
      ]
    },
    {
      "cell_type": "markdown",
      "metadata": {
        "id": "HNpiwtUeOEo2"
      },
      "source": [
        "使用字典(dict)資料攢成簡單的小寫英文字母 的ASCII 字典\n",
        "https://en.wikipedia.org/wiki/ASCII\n",
        " a-->97  ... z-->122"
      ]
    },
    {
      "cell_type": "code",
      "metadata": {
        "id": "Q_HiQdDwOGoW"
      },
      "source": [
        "# key 是數字 value是小寫英文字母 97-->a  ... 122-->z\n",
        "ascii_a2z = {num: chr(num) for num in range(97,123)}\n",
        "ascii_a2z"
      ],
      "execution_count": null,
      "outputs": []
    },
    {
      "cell_type": "code",
      "metadata": {
        "id": "9HaFDe-KOH2F"
      },
      "source": [
        "# key 是小寫英文字母   value是 數字 a-->97  ... z-->122\n",
        "alphas= []\n",
        "for num in range(97,123):\n",
        "    alpha = chr(num)\n",
        "    alphas.append(alpha)\n",
        "  \n",
        "ascii_a2z = {alpha: ord(alpha) for alpha in alphas}\n",
        "ascii_a2z"
      ],
      "execution_count": null,
      "outputs": []
    },
    {
      "cell_type": "markdown",
      "metadata": {
        "id": "ZlMhZP5COI_Y"
      },
      "source": [
        "# [進階研讀]標準函式庫還定義有許多資料型態[不必教]"
      ]
    },
    {
      "cell_type": "markdown",
      "metadata": {
        "id": "zKjOO_j9OK31"
      },
      "source": [
        "The Python Standard Library\n",
        "\n",
        "https://docs.python.org/3/library/\n",
        "\n",
        "參考Built-in Types ==>\n",
        "\n",
        "Numeric Types — int, float, complex\n",
        "\n",
        "Text Sequence Type — str\n",
        "\n",
        "Sequence Types — list, tuple, range\n",
        "\n",
        "Mapping Types — dict"
      ]
    },
    {
      "cell_type": "code",
      "metadata": {
        "id": "WikeekyVONL3"
      },
      "source": [
        "# [進階範例]底下程式執行後結果為何?\n",
        "\n",
        "from queue import Queue\n",
        "q = Queue()\n",
        "q.put(1)\n",
        "q.put(2)\n",
        "q.put(3)\n",
        "q\n",
        "print(q.queue)\n",
        "q.get()"
      ],
      "execution_count": null,
      "outputs": []
    }
  ]
}