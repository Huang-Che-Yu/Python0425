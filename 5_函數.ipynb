{
  "nbformat": 4,
  "nbformat_minor": 0,
  "metadata": {
    "colab": {
      "name": "5_函數.ipynb",
      "provenance": [],
      "authorship_tag": "ABX9TyMQyuh7O2Qvbnjr4Ihisrps",
      "include_colab_link": true
    },
    "kernelspec": {
      "name": "python3",
      "display_name": "Python 3"
    },
    "language_info": {
      "name": "python"
    }
  },
  "cells": [
    {
      "cell_type": "markdown",
      "metadata": {
        "id": "view-in-github",
        "colab_type": "text"
      },
      "source": [
        "<a href=\"https://colab.research.google.com/github/Huang-Che-Yu/Python0425/blob/main/5_%E5%87%BD%E6%95%B8.ipynb\" target=\"_parent\"><img src=\"https://colab.research.google.com/assets/colab-badge.svg\" alt=\"Open In Colab\"/></a>"
      ]
    },
    {
      "cell_type": "markdown",
      "metadata": {
        "id": "3VrhRHvPvdUF"
      },
      "source": [
        "# [1]函數開發初體驗"
      ]
    },
    {
      "cell_type": "code",
      "metadata": {
        "colab": {
          "base_uri": "https://localhost:8080/"
        },
        "id": "HNCjhxm0vWdl",
        "outputId": "51267a71-1ae1-4c1f-84bc-3dc627a6942c"
      },
      "source": [
        "def sum(i1, i2):\n",
        "    result = 0\n",
        "    for i in range(i1, i2):\n",
        "        result += i\n",
        "    return result\n",
        "\n",
        "def main():\n",
        "    print(\"Sum from 1 to 10 is\", sum(1, 11)) \n",
        "    print(\"Sum from 20 to 37 is\", sum(20, 38))\n",
        "    print(\"Sum from 35 to 49 is\", sum(35, 50))\n",
        "\n",
        "main() # Call the main function"
      ],
      "execution_count": 1,
      "outputs": [
        {
          "output_type": "stream",
          "text": [
            "Sum from 1 to 10 is 55\n",
            "Sum from 20 to 37 is 513\n",
            "Sum from 35 to 49 is 630\n"
          ],
          "name": "stdout"
        }
      ]
    },
    {
      "cell_type": "markdown",
      "metadata": {
        "id": "XrLPItgCvgaD"
      },
      "source": [
        "# 函式的定義:"
      ]
    },
    {
      "cell_type": "markdown",
      "metadata": {
        "id": "XDwv9x9eviDc"
      },
      "source": [
        "函數代碼塊以 def 關鍵字開頭，後接函數識別字名稱和圓括號()。\n",
        "\n",
        "任何傳入參數和引數必須放在圓括號中間。圓括號之間可以用於定義參數。\n",
        "\n",
        "函數的第一行語句可以選擇性地使用文檔字串—用於存放函數說明。\n",
        "\n",
        "函數內容以冒號起始，並且縮排。\n",
        "\n",
        "return [運算式] 結束函數，選擇性地返回一個值給調用方。\n",
        "不帶運算式的return相當於返回 None。\n",
        "\n",
        "函式包含標頭和主體。\n",
        "標頭(header)起源於def關鍵字，後接函式名稱和參數，最後以冒號結尾。"
      ]
    },
    {
      "cell_type": "markdown",
      "metadata": {
        "id": "I0Y1hBpvvmZT"
      },
      "source": [
        "【Python 練習實例47】"
      ]
    },
    {
      "cell_type": "code",
      "metadata": {
        "colab": {
          "base_uri": "https://localhost:8080/"
        },
        "id": "vNoldnw0vpe0",
        "outputId": "d8034d37-a588-44b5-b16b-2d98981c7db3"
      },
      "source": [
        "#!/usr/bin/python\n",
        "# -*- coding: UTF-8 -*-\n",
        " \n",
        "def swap(a,b):\n",
        "    a,b = b,a\n",
        "    return (a,b)\n",
        " \n",
        "if __name__ == '__main__':\n",
        "    x = 10\n",
        "    y = 20\n",
        "    print('x = %d,y = %d' % (x,y))\n",
        "    x,y = swap(x,y)\n",
        "    print('x = %d,y = %d' % (x,y))"
      ],
      "execution_count": 2,
      "outputs": [
        {
          "output_type": "stream",
          "text": [
            "x = 10,y = 20\n",
            "x = 20,y = 10\n"
          ],
          "name": "stdout"
        }
      ]
    },
    {
      "cell_type": "markdown",
      "metadata": {
        "id": "wrGYrh1kvrEa"
      },
      "source": [
        "# [2]函式與回傳值"
      ]
    },
    {
      "cell_type": "markdown",
      "metadata": {
        "id": "eNaYKIG-vspa"
      },
      "source": [
        "ython的函式是否有無回傳值，端視函式是否有無return敘述。\n",
        "\n",
        "若函式沒有回傳值，預設是回傳一None特殊值。\n",
        "\n",
        "因此，沒有回傳值的函式也稱為None函式。\n",
        "\n",
        "None值可以指定給一變數，表示此變數沒有參考到任何的物件"
      ]
    },
    {
      "cell_type": "markdown",
      "metadata": {
        "id": "E_aAjqTxvvND"
      },
      "source": [
        "# Python的函數可以回傳多個值\n"
      ]
    },
    {
      "cell_type": "code",
      "metadata": {
        "colab": {
          "base_uri": "https://localhost:8080/"
        },
        "id": "8Q-YkBftv1Rb",
        "outputId": "53a9cdfc-185b-442a-fd47-b311ea3d7439"
      },
      "source": [
        "#!/usr/bin/python \n",
        "# -*- coding: UTF-8 -*- \n",
        "\n",
        "def sort(number1, number2):\n",
        "    if number1 < number2:\n",
        "        return number1, number2\n",
        "    else:\n",
        "        return number2, number1\n",
        "\n",
        "num1, num2 = sort(31, 25)\n",
        "\n",
        "print(\"num1 is\", num1)\n",
        "print(\"num2 is\", num2)"
      ],
      "execution_count": 4,
      "outputs": [
        {
          "output_type": "stream",
          "text": [
            "num1 is 25\n",
            "num2 is 31\n"
          ],
          "name": "stdout"
        }
      ]
    },
    {
      "cell_type": "markdown",
      "metadata": {
        "id": "QvWPnn6Yv2zk"
      },
      "source": [
        "作業]:傳回3個數字的排列後的結果(由小排到大)\n",
        "\n",
        "   def sort(number1, number2, number3)\n",
        "   \n",
        "[作業]:傳回4個數字的排列後的結果(由小排到大)[你有幾種解法?]\n",
        "\n",
        "[思考]:傳回多個數字的排序值? ==>排序演算法"
      ]
    },
    {
      "cell_type": "code",
      "metadata": {
        "colab": {
          "base_uri": "https://localhost:8080/"
        },
        "id": "Oh2hRgqlyAWy",
        "outputId": "f65f8ee3-b7f0-49d6-e9ea-46d9cdb12bf9"
      },
      "source": [
        "def sort(number1, number2, number3):\n",
        "    num = [number1,number2,number3]\n",
        "    num.sort()\n",
        "    return num[0],num[1],num[2]\n",
        "\n",
        "num1, num2 ,num3 = sort(31, 25, 27)\n",
        "\n",
        "print(\"num1 is\", num1)\n",
        "print(\"num2 is\", num2)\n",
        "print(\"num3 is\", num3)"
      ],
      "execution_count": 3,
      "outputs": [
        {
          "output_type": "stream",
          "text": [
            "num1 is 25\n",
            "num2 is 27\n",
            "num3 is 31\n"
          ],
          "name": "stdout"
        }
      ]
    },
    {
      "cell_type": "markdown",
      "metadata": {
        "id": "L5h3OUwLv5Db"
      },
      "source": [
        "# 函式與參數"
      ]
    },
    {
      "cell_type": "markdown",
      "metadata": {
        "id": "Xi3ruMI1v6mL"
      },
      "source": [
        "請依照底下範例學習幾種參數技術\n",
        "\n",
        "Default arguments預設參數\n",
        "\n",
        "Positional arguments位置參數\n",
        "\n",
        "Keyword arguments關鍵字參數"
      ]
    },
    {
      "cell_type": "markdown",
      "metadata": {
        "id": "Rbjg3JSTv9CT"
      },
      "source": [
        "參數 的 使用技巧"
      ]
    },
    {
      "cell_type": "code",
      "metadata": {
        "colab": {
          "base_uri": "https://localhost:8080/"
        },
        "id": "JtVWz3acv-uj",
        "outputId": "2287b9e7-d192-4541-f8fe-0015efae17b5"
      },
      "source": [
        "#!/usr/bin/python \n",
        "# -*- coding: UTF-8 -*- \n",
        "\n",
        " #定義函式時 使用預設參數width = 11 , height = 12\n",
        "def printArea(width = 11, height = 12):\n",
        "    area = width * height\n",
        "    print(\"width:\", width, \"\\theight:\", height, \"\\tarea:\", area)\n",
        "\n",
        "# 函式呼叫時不帶任何參數 ==> 使用預設參數\n",
        "printArea() \n",
        "\n",
        "# 函式呼叫時不帶參數名稱 ==> 使用位置參數\n",
        "printArea(4, 2.5) \n",
        "# Positional arguments width = 4 and height = 2.5\n",
        "\n",
        "## 函式呼叫時帶參數名稱 ==> 使用關鍵字參數(Keyword arguments)\n",
        "printArea(height = 5, width = 3) \n",
        "\n",
        "## 函式呼叫時僅帶部分參數名稱 ==> 沒帶參數部分 使用預設參數\n",
        "printArea(width = 1.2) # Default height = 2\n",
        "printArea(height = 6.2) # Default widht = 1"
      ],
      "execution_count": 5,
      "outputs": [
        {
          "output_type": "stream",
          "text": [
            "width: 11 \theight: 12 \tarea: 132\n",
            "width: 4 \theight: 2.5 \tarea: 10.0\n",
            "width: 3 \theight: 5 \tarea: 15\n",
            "width: 1.2 \theight: 12 \tarea: 14.399999999999999\n",
            "width: 11 \theight: 6.2 \tarea: 68.2\n"
          ],
          "name": "stdout"
        }
      ]
    },
    {
      "cell_type": "markdown",
      "metadata": {
        "id": "LPFDsRpVwJYy"
      },
      "source": [
        "# [小小測驗]:執行下列程式並說明其結果"
      ]
    },
    {
      "cell_type": "code",
      "metadata": {
        "colab": {
          "base_uri": "https://localhost:8080/"
        },
        "id": "kVeCbGDcwKsj",
        "outputId": "c35996b5-b26b-4d05-95fb-b30cff256517"
      },
      "source": [
        "#!/usr/bin/python \n",
        "# -*- coding: UTF-8 -*- \n",
        "\n",
        "def hello_3(greeting='Hello', name='world'): \n",
        "    print('{}, {}!'.format(greeting, name)) \n",
        "\n",
        "    \n",
        "hello_3() \n",
        "hello_3('Greetings') \n",
        "hello_3('Greetings', 'universe')\n",
        "hello_3(name='GGGGGGoood')"
      ],
      "execution_count": 6,
      "outputs": [
        {
          "output_type": "stream",
          "text": [
            "Hello, world!\n",
            "Greetings, world!\n",
            "Greetings, universe!\n",
            "Hello, GGGGGGoood!\n"
          ],
          "name": "stdout"
        }
      ]
    },
    {
      "cell_type": "markdown",
      "metadata": {
        "id": "aW_GsDhowRAS"
      },
      "source": [
        "collectiong parameters(任意數量的參數):* 與 **"
      ]
    },
    {
      "cell_type": "code",
      "metadata": {
        "colab": {
          "base_uri": "https://localhost:8080/"
        },
        "id": "PAELMjE2wSKy",
        "outputId": "e936ec7e-df0c-4ae6-d927-43efe41d02ba"
      },
      "source": [
        "def print_params(*params): \n",
        "    print(params) \n",
        "\n",
        "# print_params('Testing') \n",
        "\n",
        "print_params(1, 2, 3) \n",
        "\n",
        "# return的是tuple資料型態"
      ],
      "execution_count": 7,
      "outputs": [
        {
          "output_type": "stream",
          "text": [
            "(1, 2, 3)\n"
          ],
          "name": "stdout"
        }
      ]
    },
    {
      "cell_type": "code",
      "metadata": {
        "colab": {
          "base_uri": "https://localhost:8080/"
        },
        "id": "7YVa9RWRwTnq",
        "outputId": "0951ec93-0582-4724-996d-70dff9718af3"
      },
      "source": [
        "def print_params_2(title, *params): \n",
        "    print(title) \n",
        "    print(params)\n",
        "\n",
        "print_params_2('Params:', 1, 2, 3)"
      ],
      "execution_count": 8,
      "outputs": [
        {
          "output_type": "stream",
          "text": [
            "Params:\n",
            "(1, 2, 3)\n"
          ],
          "name": "stdout"
        }
      ]
    },
    {
      "cell_type": "markdown",
      "metadata": {
        "id": "NuA2e8szwVAq"
      },
      "source": [
        "撰寫擁有任意數量參數的函式 且要支援 關鍵字參數==>使用**"
      ]
    },
    {
      "cell_type": "code",
      "metadata": {
        "colab": {
          "base_uri": "https://localhost:8080/"
        },
        "id": "JW8gOV1hwWSS",
        "outputId": "4ffa9ad3-ef06-4dac-b267-3a99f683c83e"
      },
      "source": [
        "def print_params_3(**params): \n",
        "    print(params) \n",
        "\n",
        "print_params_3(x=1, y=2, z=3) \n",
        "\n",
        "# return的是dict(字典資料型態)"
      ],
      "execution_count": 9,
      "outputs": [
        {
          "output_type": "stream",
          "text": [
            "{'x': 1, 'y': 2, 'z': 3}\n"
          ],
          "name": "stdout"
        }
      ]
    },
    {
      "cell_type": "markdown",
      "metadata": {
        "id": "08fuR4wowXm6"
      },
      "source": [
        "綜合練習 ==> 先不跑程式, 你能說出底下會列印出甚麼嗎?"
      ]
    },
    {
      "cell_type": "code",
      "metadata": {
        "colab": {
          "base_uri": "https://localhost:8080/"
        },
        "id": "BZYNUt4MwZFa",
        "outputId": "7bd993d7-acf4-4f0c-b12b-df2e635b498b"
      },
      "source": [
        "def print_params_4(x, y, z=3, *pospar, **keypar): \n",
        "    print(x, y, z) \n",
        "    print(pospar) \n",
        "    print(keypar) \n",
        "\n",
        "print_params_4(1, 2, 4, 5, 6, 7, foo=1, bar=2)\n",
        "\n",
        "print_params_4(1, 2)"
      ],
      "execution_count": 10,
      "outputs": [
        {
          "output_type": "stream",
          "text": [
            "1 2 4\n",
            "(5, 6, 7)\n",
            "{'foo': 1, 'bar': 2}\n",
            "1 2 3\n",
            "()\n",
            "{}\n"
          ],
          "name": "stdout"
        }
      ]
    },
    {
      "cell_type": "markdown",
      "metadata": {
        "id": "ErxwhISlwaMb"
      },
      "source": [
        "[特別注意]要將字典dict型的資料傳給函數時,記得要使用**"
      ]
    },
    {
      "cell_type": "code",
      "metadata": {
        "colab": {
          "base_uri": "https://localhost:8080/"
        },
        "id": "0nB4IvWMwbjC",
        "outputId": "560da0a6-ac6b-4c09-a793-e0d1a3342539"
      },
      "source": [
        "params = {'name': 'Sir Simon Rattle', 'greeting': 'To my Great Conductor'}\n",
        "hello_3(**params)"
      ],
      "execution_count": 11,
      "outputs": [
        {
          "output_type": "stream",
          "text": [
            "To my Great Conductor, Sir Simon Rattle!\n"
          ],
          "name": "stdout"
        }
      ]
    },
    {
      "cell_type": "markdown",
      "metadata": {
        "id": "RZwv6XuNwdJ6"
      },
      "source": [
        "# [3]變數的有效範圍"
      ]
    },
    {
      "cell_type": "markdown",
      "metadata": {
        "id": "-UHLY__ywe1T"
      },
      "source": [
        "變數的有效範圍(Scope)：變數在程式可參考的範圍。\n",
        "\n",
        "區域變數(local variable):宣告在函式內部的變數\n",
        "\n",
        "全域變數(global variables):宣告在所有函式外部的變數"
      ]
    },
    {
      "cell_type": "code",
      "metadata": {
        "colab": {
          "base_uri": "https://localhost:8080/"
        },
        "id": "3k-At8JzwgXi",
        "outputId": "b00ef9d0-4904-44e9-b813-44b38e16aade"
      },
      "source": [
        "x = 111\n",
        "\n",
        "def f1():\n",
        "    x = 222\n",
        "    print(x) \n",
        "\n",
        "f1()\n",
        "print(x)\n",
        "\n",
        "x = 1\n",
        "\n",
        "def increase():\n",
        "    global x\n",
        "    x =  x + 1\n",
        "    print(x) \n",
        "\n",
        "increase()\n",
        "print(x)\n",
        "increase()\n",
        "increase()\n",
        "print(x)"
      ],
      "execution_count": 12,
      "outputs": [
        {
          "output_type": "stream",
          "text": [
            "222\n",
            "111\n",
            "2\n",
            "2\n",
            "3\n",
            "4\n",
            "4\n"
          ],
          "name": "stdout"
        }
      ]
    },
    {
      "cell_type": "markdown",
      "metadata": {
        "id": "xzwVsPLSwg5U"
      },
      "source": [
        "# [4] 各種函數技術"
      ]
    },
    {
      "cell_type": "markdown",
      "metadata": {
        "id": "tXAScAMcwi8k"
      },
      "source": [
        "[4_1]匿名函數==>lambda 運算式"
      ]
    },
    {
      "cell_type": "markdown",
      "metadata": {
        "id": "SAb_Zge7wlZa"
      },
      "source": [
        "匿名函數==沒有函數名稱、臨時使用的小函數\n",
        "\n",
        "使用lambda 運算式來宣告匿名函數\n",
        "\n",
        "lambda 運算式只能包含一個運算式， 不允許複雜的語句，但運算式中可呼叫其他函數"
      ]
    },
    {
      "cell_type": "markdown",
      "metadata": {
        "id": "gLFDwdacwmeL"
      },
      "source": [
        "把lambda運算式當做函數"
      ]
    },
    {
      "cell_type": "code",
      "metadata": {
        "colab": {
          "base_uri": "https://localhost:8080/"
        },
        "id": "tlZ-SQS1wpKL",
        "outputId": "6ae95405-1a33-4502-b540-b0db9afa601d"
      },
      "source": [
        "f1 = lambda x, y, z: x+2*y+3*z\n",
        "print(f1(2,3,1))"
      ],
      "execution_count": 13,
      "outputs": [
        {
          "output_type": "stream",
          "text": [
            "11\n"
          ],
          "name": "stdout"
        }
      ]
    },
    {
      "cell_type": "markdown",
      "metadata": {
        "id": "u64ubpPowtAi"
      },
      "source": [
        "在lambda 運算式中呼叫其他函式(重要技術)"
      ]
    },
    {
      "cell_type": "code",
      "metadata": {
        "colab": {
          "base_uri": "https://localhost:8080/"
        },
        "id": "MHn6f2EDwuXq",
        "outputId": "e5917eef-31d3-4c16-d4eb-463c83a4c4d9"
      },
      "source": [
        "def myfunc(m):\n",
        "    return m*m\n",
        "\n",
        "my_list = [1, 3, 5, 7, 9]\n",
        "\n",
        "## 使用python的map()\n",
        "\n",
        "map(lambda x:myfunc(x), my_list)"
      ],
      "execution_count": 14,
      "outputs": [
        {
          "output_type": "execute_result",
          "data": {
            "text/plain": [
              "<map at 0x7f6c21134510>"
            ]
          },
          "metadata": {
            "tags": []
          },
          "execution_count": 14
        }
      ]
    },
    {
      "cell_type": "markdown",
      "metadata": {
        "id": "eQaq62O-wvcq"
      },
      "source": [
        "[4_2]遞迴函式 ==> recursive vs iterative(loop)"
      ]
    },
    {
      "cell_type": "markdown",
      "metadata": {
        "id": "7i_k6M_lyuEK"
      },
      "source": [
        "遞迴 (Recursion)函式:在函式中會呼叫自己函式\n",
        "\n",
        "遞迴 (Recursion)與分治法(分而治之 Divide-and-conquer)\n",
        "\n",
        "分治法(分而治之)是重要的演算法典範 \n",
        "\n",
        " 把一個複雜的問題分成兩個或更多的相同或相似的子問題，直到最後子問題可以簡單的直接求解，\n",
        "\n",
        " 原問題的解即子問題的解的合併\n",
        "\n",
        " recursion is a method of solving a problem \n",
        "\n",
        " where the solution depends on solutions to smaller instances of the same problem\n",
        " \n",
        "https://en.wikipedia.org/wiki/Divide-and-conquer_algorithm"
      ]
    },
    {
      "cell_type": "markdown",
      "metadata": {
        "id": "jVMnuJ35w1ja"
      },
      "source": [
        "大部分程式語言(Pyhon| C| C++|C#|JAVA )都會教 遞迴函式,底下是常用來當作業\n",
        "\n",
        "[程式開發作業]費氏數列\n",
        "\n",
        "[程式開發作業]1+2+3+....+n\n",
        "\n",
        "[程式開發作業]n!\n",
        "\n",
        "[程式開發作業]x的n次方\n",
        "\n",
        "[程式開發作業]二項係數\n",
        "\n",
        "[程式開發作業][Ackermann函式]\n",
        "\n",
        "     (https://en.wikipedia.org/wiki/Ackermann_function)\n",
        "\n",
        "資料結構與演算法 ==> 例舉數例\n",
        "\n",
        "[程式開發作業]河內塔\n",
        "\n",
        "[程式開發作業]八皇后問題\n",
        "\n",
        "[程式開發作業]binary search二元搜尋法\n",
        "\n",
        "\n",
        "函式開發 使用recursive 遞迴技術\n",
        "\n",
        "函式開發 使用iterative(loop) 技術\n",
        "\n",
        "大學課程 ==> 還要教時間複雜度的計算\n",
        "\n",
        "   recursive vs iterative(loop) 哪一個效能比較好 ?? 大學 再學"
      ]
    },
    {
      "cell_type": "markdown",
      "metadata": {
        "id": "SBJkmqn_w6ea"
      },
      "source": [
        "範例:費氏數列"
      ]
    },
    {
      "cell_type": "markdown",
      "metadata": {
        "id": "H8hdyYzKw7uK"
      },
      "source": [
        "費氏數列Fibonacci sequence又稱 黃金分割數列\n",
        "\n",
        "0、1、1、2、3、5、8、13、21、34、……。\n",
        "\n",
        "在數學上，費波那契數列是以遞迴的方法來定義：\n",
        "\n",
        "F(0) = 0    (n=0)\n",
        "\n",
        "F(1) = 1    (n=1)\n",
        "\n",
        "F(n) = F(n-1)+ F(n-2)(n=>2)\n",
        "\n",
        "註:費氏數列有許多變化與定義,仔細區別之"
      ]
    },
    {
      "cell_type": "markdown",
      "metadata": {
        "id": "wajvsXYAw-ZK"
      },
      "source": [
        "方法一:使用 recursive"
      ]
    },
    {
      "cell_type": "code",
      "metadata": {
        "colab": {
          "base_uri": "https://localhost:8080/"
        },
        "id": "19KJbXNYw_ch",
        "outputId": "2df24e1b-5a16-4e7c-d601-8f86c045e812"
      },
      "source": [
        "#!/usr/bin/python\n",
        "# -*- coding: UTF-8 -*-\n",
        "\n",
        "def fib(n):\n",
        "    if n==1 or n==2:\n",
        "        return 1\n",
        "    return fib(n-1)+fib(n-2)\n",
        "\n",
        "print(fib(10))"
      ],
      "execution_count": 16,
      "outputs": [
        {
          "output_type": "stream",
          "text": [
            "55\n"
          ],
          "name": "stdout"
        }
      ]
    },
    {
      "cell_type": "markdown",
      "metadata": {
        "id": "W2vtb8kPxBcS"
      },
      "source": [
        "方法二:使用 iterative"
      ]
    },
    {
      "cell_type": "code",
      "metadata": {
        "colab": {
          "base_uri": "https://localhost:8080/"
        },
        "id": "3_8fg9raxBF6",
        "outputId": "19065c10-a28b-40ce-c3cf-c2a45dbe0e9d"
      },
      "source": [
        "#!/usr/bin/python\n",
        "# -*- coding: UTF-8 -*-\n",
        " \n",
        "def fib(n):\n",
        "    a,b = 1,1\n",
        "    for i in range(n-1):\n",
        "        a,b = b,a+b\n",
        "    return a\n",
        " \n",
        "\n",
        "print(fib(10))"
      ],
      "execution_count": 17,
      "outputs": [
        {
          "output_type": "stream",
          "text": [
            "55\n"
          ],
          "name": "stdout"
        }
      ]
    },
    {
      "cell_type": "markdown",
      "metadata": {
        "id": "gvPouYEYxGCK"
      },
      "source": [
        "【Python 練習實例28】"
      ]
    },
    {
      "cell_type": "markdown",
      "metadata": {
        "id": "LYq5QP-ZxHHL"
      },
      "source": [
        "有5個人坐在一起，\n",
        "\n",
        "問第五個人多少歲？他說比第4個人大2歲。\n",
        "\n",
        "問第4個人歲數，他說比第3個人大2歲。\n",
        "\n",
        "問第三個人，又說比第2人大兩歲。\n",
        "\n",
        "問第2個人，說比第一個人大兩歲。\n",
        "\n",
        "最後問第一個人，他說是10歲。\n",
        "\n",
        "請問第五個人多大？"
      ]
    },
    {
      "cell_type": "markdown",
      "metadata": {
        "id": "BMkiMxzxxTeK"
      },
      "source": [
        "問題:要如何知道函數被呼叫的次數??"
      ]
    },
    {
      "cell_type": "markdown",
      "metadata": {
        "id": "-tR-mvoQxRWw"
      },
      "source": [
        "遞迴函式的呼叫次數 ==> 全域變數的應用\n",
        "還有其他方法嗎?"
      ]
    },
    {
      "cell_type": "code",
      "metadata": {
        "colab": {
          "base_uri": "https://localhost:8080/"
        },
        "id": "jTINHq8mxVE6",
        "outputId": "8ceb2920-4e65-4654-df55-cb354b538755"
      },
      "source": [
        "#!/usr/bin/python\n",
        "# -*- coding: UTF-8 -*-\n",
        "\n",
        "def fib(x):\t\n",
        "\tglobal numFibCalls\n",
        "\tnumFibCalls += 1\n",
        "\t\n",
        "\tif x == 0 or x == 1:\n",
        "           return 1\n",
        "\telse:\n",
        "          return fib(x-1) + fib(x-2)\n",
        "\n",
        "def testFib(n):\n",
        "\tfor i in range(n+1):\n",
        "          global numFibCalls\n",
        "          numFibCalls = 0\n",
        "          print('fib of', i, '=', fib(i))\n",
        "          print('fib called', numFibCalls, 'times.')\n",
        "\n",
        "testFib(4)"
      ],
      "execution_count": 18,
      "outputs": [
        {
          "output_type": "stream",
          "text": [
            "fib of 0 = 1\n",
            "fib called 1 times.\n",
            "fib of 1 = 1\n",
            "fib called 1 times.\n",
            "fib of 2 = 2\n",
            "fib called 3 times.\n",
            "fib of 3 = 3\n",
            "fib called 5 times.\n",
            "fib of 4 = 5\n",
            "fib called 9 times.\n"
          ],
          "name": "stdout"
        }
      ]
    },
    {
      "cell_type": "markdown",
      "metadata": {
        "id": "QvWWn64dxWgK"
      },
      "source": [
        "# [5]Python內建函數==>Built-in Functions:"
      ]
    },
    {
      "cell_type": "markdown",
      "metadata": {
        "id": "Ib4xB-EexY3C"
      },
      "source": [
        "Python有許多內建函數\n",
        "\n",
        "請講師帶學生看看底下官方的文件\n",
        "\n",
        "https://docs.python.org/3.8/library/functions.html\n",
        "\n",
        "使用範例 ==> 請參考 https://www.programiz.com/python-programming/methods/built-in\n",
        "\n",
        "             看不懂的部分..以後再學  \n",
        "\n",
        "底下範例說明hex(x),oct(x),bin(x)內建函數的使用"
      ]
    },
    {
      "cell_type": "markdown",
      "metadata": {
        "id": "TFdmVFEqxcdD"
      },
      "source": [
        "數目系統(number system)之n進位制(十進位,二進位,)與轉換(十進位 轉 二進位,...等)"
      ]
    },
    {
      "cell_type": "markdown",
      "metadata": {
        "id": "amctB2kDxeOK"
      },
      "source": [
        "數目系統(number system)之n進位制說明 \n",
        " ==> 請參閱 https://zh.wikipedia.org/wiki/進位制"
      ]
    },
    {
      "cell_type": "markdown",
      "metadata": {
        "id": "wee9khppxfXq"
      },
      "source": [
        "直接在Google Colab輸入後 再執行  即可看到答案\n",
        "\n",
        "十進位數字 轉 十六進位 ==> hex(255) hex(-42)\n",
        "\n",
        "十進位數字 轉 八進位 ==> oct(8)\n",
        "\n",
        "十進位數字 轉 二進位 ==> bin(3)\n",
        "\n",
        "二進位 轉 十進位數字 ==> 0b10 \n",
        "\n",
        "八進位 轉 十進位數字 ==> 0o10   0o10101110\n",
        "\n",
        "十六進位 轉 十進位數字 ==>0x10"
      ]
    },
    {
      "cell_type": "markdown",
      "metadata": {
        "id": "tHTEnR-ExiIz"
      },
      "source": [
        "作業\n",
        "\n",
        "舉例說明底下內建函數(Built-in Functions)的用法:\n",
        "\n",
        "[1]divmod(a, b) \n",
        "\n",
        "    ==> divmod(3, 5)與divmod(5,3)會輸出甚麼答案?答案是什麼資料型態?\n",
        "\n",
        "[2]pow(base, exp[, mod]) \n",
        "\n",
        "   ==> pow(2,3)與pow(2,3,5)分別會輸出甚麼答案?\n",
        "   \n",
        "[3]chr(i) 與 ord(c)  ==> ACII 編碼與解碼 "
      ]
    }
  ]
}