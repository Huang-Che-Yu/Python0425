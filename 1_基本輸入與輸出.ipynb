{
  "nbformat": 4,
  "nbformat_minor": 0,
  "metadata": {
    "colab": {
      "name": "1_基本輸入與輸出.ipynb",
      "provenance": [],
      "authorship_tag": "ABX9TyNVx6GMAWcK94Hi0cWbGIgU",
      "include_colab_link": true
    },
    "kernelspec": {
      "name": "python3",
      "display_name": "Python 3"
    },
    "language_info": {
      "name": "python"
    }
  },
  "cells": [
    {
      "cell_type": "markdown",
      "metadata": {
        "id": "view-in-github",
        "colab_type": "text"
      },
      "source": [
        "<a href=\"https://colab.research.google.com/github/Huang-Che-Yu/Python0425/blob/main/1_%E5%9F%BA%E6%9C%AC%E8%BC%B8%E5%85%A5%E8%88%87%E8%BC%B8%E5%87%BA.ipynb\" target=\"_parent\"><img src=\"https://colab.research.google.com/assets/colab-badge.svg\" alt=\"Open In Colab\"/></a>"
      ]
    },
    {
      "cell_type": "markdown",
      "metadata": {
        "id": "bwN7hl6r9Rdh"
      },
      "source": [
        "# 學習大綱"
      ]
    },
    {
      "cell_type": "markdown",
      "metadata": {
        "id": "P5kNkgif9RUP"
      },
      "source": [
        "標準輸入(stdin)與標準輸出(stdout)\n",
        "   python輸入:input()\n",
        "   python輸出: print()\n",
        "   python格式化輸出技術"
      ]
    },
    {
      "cell_type": "markdown",
      "metadata": {
        "id": "1oAwgLW69RHH"
      },
      "source": [
        "進階學習主題:\n",
        "[10]讀取檔案與輸出到檔案\n",
        "[20]資料庫讀取與輸出"
      ]
    },
    {
      "cell_type": "markdown",
      "metadata": {
        "id": "NR6mQM1c9N_Q"
      },
      "source": [
        "1_基礎輸入與輸出(Basic Input and Output)"
      ]
    },
    {
      "cell_type": "markdown",
      "metadata": {
        "id": "dJRv8DOv9JX3"
      },
      "source": [
        "使用input時，會從標準輸入(stdin)中讀取輸入資料\n",
        "這些資料是string字串型態{重要}\n",
        "\n",
        "stdin==Standard Input"
      ]
    },
    {
      "cell_type": "markdown",
      "metadata": {
        "id": "sbPKGHB38i0h"
      },
      "source": [
        "# 1_1_範例"
      ]
    },
    {
      "cell_type": "code",
      "metadata": {
        "colab": {
          "base_uri": "https://localhost:8080/"
        },
        "id": "nY4VZuJJ8bti",
        "outputId": "85e0c871-9305-4624-a584-2f013588a720"
      },
      "source": [
        "# -*- coding: utf-8 -*-\n",
        "x = input('Enter your name:')\n",
        "print('Hello, ' + x)\n",
        "\n",
        "a = input(\"請輸入：\")\n",
        "\n",
        "###  使用Python內建的type()函數顯示資料型態\n",
        "\n",
        "type(a)"
      ],
      "execution_count": 1,
      "outputs": [
        {
          "output_type": "stream",
          "text": [
            "Enter your name:123\n",
            "Hello, 123\n",
            "請輸入：123\n"
          ],
          "name": "stdout"
        },
        {
          "output_type": "execute_result",
          "data": {
            "text/plain": [
              "str"
            ]
          },
          "metadata": {
            "tags": []
          },
          "execution_count": 1
        }
      ]
    },
    {
      "cell_type": "markdown",
      "metadata": {
        "id": "PIeaRQAZ8hxo"
      },
      "source": [
        "# 1_2_程式錯誤與更正"
      ]
    },
    {
      "cell_type": "code",
      "metadata": {
        "id": "RWAlu-me8y3P"
      },
      "source": [
        "小明明正在學習python程式\n",
        "老師出了一題\n",
        "要輸入一個整數分數\n",
        "然後加1後\n",
        "輸出最後答案\n",
        "底下是小明明的python程式\n",
        "請指出底下的錯誤並更正"
      ],
      "execution_count": null,
      "outputs": []
    },
    {
      "cell_type": "markdown",
      "metadata": {
        "id": "5MC5ac0382HY"
      },
      "source": [
        "小明明的python程式"
      ]
    },
    {
      "cell_type": "code",
      "metadata": {
        "id": "mTg5Fm5k82vn"
      },
      "source": [
        "a = input(\"請輸入：\")\n",
        "a"
      ],
      "execution_count": null,
      "outputs": []
    },
    {
      "cell_type": "code",
      "metadata": {
        "id": "vy6EdGlH87AX"
      },
      "source": [
        "b=a+1\n",
        "b"
      ],
      "execution_count": null,
      "outputs": []
    },
    {
      "cell_type": "code",
      "metadata": {
        "id": "XgiQL37A88q1"
      },
      "source": [
        "TypeError                                 Traceback (most recent call last)\n",
        "<ipython-input-15-1bf84b7b9877> in <module>()\n",
        "----> 1 b=a+1\n",
        "      2 b\n",
        "\n",
        "TypeError: must be str, not int"
      ],
      "execution_count": null,
      "outputs": []
    },
    {
      "cell_type": "code",
      "metadata": {
        "id": "bI2iV2pC89-_"
      },
      "source": [
        "TypeError :資料型態(data type)錯誤"
      ],
      "execution_count": null,
      "outputs": []
    },
    {
      "cell_type": "markdown",
      "metadata": {
        "id": "X8td8FkM9B6_"
      },
      "source": [
        "更正的 小明明python程式"
      ]
    },
    {
      "cell_type": "markdown",
      "metadata": {
        "id": "xey6HlPV9FOH"
      },
      "source": [
        "如何讀取使用者輸入的整數===>使用eval()函數 或int()"
      ]
    },
    {
      "cell_type": "code",
      "metadata": {
        "colab": {
          "base_uri": "https://localhost:8080/"
        },
        "id": "upHEmm8J8_qA",
        "outputId": "290e2a04-beb3-4fd9-d4d7-50df6c5bd624"
      },
      "source": [
        "a = eval(input(\"請輸入：\"))\n",
        "a\n",
        "\n",
        "b=a+1\n",
        "b"
      ],
      "execution_count": 2,
      "outputs": [
        {
          "output_type": "stream",
          "text": [
            "請輸入：456\n"
          ],
          "name": "stdout"
        },
        {
          "output_type": "execute_result",
          "data": {
            "text/plain": [
              "457"
            ]
          },
          "metadata": {
            "tags": []
          },
          "execution_count": 2
        }
      ]
    },
    {
      "cell_type": "markdown",
      "metadata": {
        "id": "K5cD3o6B9cfX"
      },
      "source": [
        "# 1_4_高階技巧:[初學可略過]*"
      ]
    },
    {
      "cell_type": "code",
      "metadata": {
        "colab": {
          "base_uri": "https://localhost:8080/"
        },
        "id": "MA7DmFzz9eEn",
        "outputId": "662463ee-068e-41bb-d1b8-98bbb0d13ef4"
      },
      "source": [
        "x, y, z = [int(x) for x in input(\"Enter three value: \").split()] \n",
        "print(\"First Number is: \", x) \n",
        "print(\"Second Number is: \", y) \n",
        "print(\"Third Number is: \", z) \n",
        "print()\n",
        "\n",
        "x, y, z = [int(x) for x in input(\"Enter three value: \").split(\",\")] \n",
        "print(\"First Number is: \", x) \n",
        "print(\"Second Number is: \", y) \n",
        "print(\"Third Number is: \", z) \n",
        "print()\n",
        "\n",
        "a, b = input(\"Enter a two value: \").split() \n",
        "print(\"First number is {} and second number is {}\".format(a, b)) \n",
        "print()"
      ],
      "execution_count": 4,
      "outputs": [
        {
          "output_type": "stream",
          "text": [
            "Enter three value: 3 4 5\n",
            "First Number is:  3\n",
            "Second Number is:  4\n",
            "Third Number is:  5\n",
            "\n",
            "Enter three value: 3,4,5\n",
            "First Number is:  3\n",
            "Second Number is:  4\n",
            "Third Number is:  5\n",
            "\n",
            "Enter a two value: 213 4654\n",
            "First number is 213 and second number is 4654\n",
            "\n"
          ],
          "name": "stdout"
        }
      ]
    },
    {
      "cell_type": "markdown",
      "metadata": {
        "id": "NIRGVYP-9eq_"
      },
      "source": [
        "# 2_格式化輸出"
      ]
    },
    {
      "cell_type": "markdown",
      "metadata": {
        "id": "u_VLDPr49nFW"
      },
      "source": [
        "1.使用String modulo operator(%)\n",
        "2.使用format 方法"
      ]
    },
    {
      "cell_type": "markdown",
      "metadata": {
        "id": "cMLkgJtY9okW"
      },
      "source": [
        "2_1_使用String modulo operator(%)"
      ]
    },
    {
      "cell_type": "code",
      "metadata": {
        "colab": {
          "base_uri": "https://localhost:8080/"
        },
        "id": "lngZz7hk9rQf",
        "outputId": "c945027f-4ba0-4750-8af6-818f9239d4ab"
      },
      "source": [
        "# 列印整數(integer)與 浮點數(float) 的值\n",
        "print(\"Happy : %2d, Python : %5.2f\" % (1, 05.333))\n",
        " \n",
        "# 列印整數值 ==> %3d 和 %2d有 何不同\n",
        "print(\"Total students : %3d, Boys : %2d\" % (240, 120))\n",
        " \n",
        "# print octal value\n",
        "print(\"%7.3o\" % (25))\n",
        " \n",
        "# print exponential value\n",
        "print(\"%10.3E\" % (356.08977))"
      ],
      "execution_count": 5,
      "outputs": [
        {
          "output_type": "stream",
          "text": [
            "Happy :  1, Python :  5.33\n",
            "Total students : 240, Boys : 120\n",
            "    031\n",
            " 3.561E+02\n"
          ],
          "name": "stdout"
        }
      ]
    },
    {
      "cell_type": "markdown",
      "metadata": {
        "id": "_ZQ5mQZE9tAe"
      },
      "source": [
        "2_2.使用format 方法"
      ]
    },
    {
      "cell_type": "code",
      "metadata": {
        "colab": {
          "base_uri": "https://localhost:8080/"
        },
        "id": "2YOX6hzl9u0W",
        "outputId": "e62586d6-358b-48b5-cd17-3340996fb691"
      },
      "source": [
        "# using format() method\n",
        "print('I love {} for \"{}!\"'.format('Python', 'CTFer'))\n",
        " \n",
        "# 使用位置表達 ==>看看底下有何不同\n",
        "print('{0} and {1}'.format('Python', 'CTFer'))\n",
        " \n",
        "print('{1} and {0}'.format('Python', 'CTFer'))"
      ],
      "execution_count": 6,
      "outputs": [
        {
          "output_type": "stream",
          "text": [
            "I love Python for \"CTFer!\"\n",
            "Python and CTFer\n",
            "CTFer and Python\n"
          ],
          "name": "stdout"
        }
      ]
    },
    {
      "cell_type": "markdown",
      "metadata": {
        "id": "plYtKfM29yUY"
      },
      "source": [
        "更多格式化輸出方法請參閱底下資料\n",
        "Python | Output Formatting\n",
        "https://www.geeksforgeeks.org/python-output-formatting/"
      ]
    }
  ]
}